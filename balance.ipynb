{
 "cells": [
  {
   "cell_type": "code",
   "execution_count": 9,
   "metadata": {},
   "outputs": [],
   "source": [
    "import pandas as pd\n",
    "from sklearn.utils import resample\n",
    "\n",
    "# Load the dataset\n",
    "df = pd.read_csv('final_dataset.csv')\n"
   ]
  },
  {
   "cell_type": "code",
   "execution_count": 10,
   "metadata": {},
   "outputs": [
    {
     "name": "stdout",
     "output_type": "stream",
     "text": [
      "target\n",
      "genuine    41945\n",
      "fake       11515\n",
      "Name: count, dtype: int64\n"
     ]
    }
   ],
   "source": [
    "class_counts = df['target'].value_counts()\n",
    "print(class_counts)\n"
   ]
  },
  {
   "cell_type": "code",
   "execution_count": 11,
   "metadata": {},
   "outputs": [
    {
     "name": "stdout",
     "output_type": "stream",
     "text": [
      "target\n",
      "genuine    41945\n",
      "fake       41945\n",
      "Name: count, dtype: int64\n"
     ]
    }
   ],
   "source": [
    "if 'genuine' in class_counts and 'fake' in class_counts:\n",
    "    # Separate majority and minority classes\n",
    "    df_majority = df[df['target'] == 'genuine']\n",
    "    df_minority = df[df['target'] == 'fake']\n",
    "\n",
    "    # Check the number of samples in each class\n",
    "    n_minority = len(df_minority)\n",
    "    n_majority = len(df_majority)\n",
    "\n",
    "    if n_minority > 0 and n_majority > 0:\n",
    "        # Option 1: Undersample majority class\n",
    "        df_majority_downsampled = resample(df_majority, \n",
    "                                           replace=False,    # sample without replacement\n",
    "                                           n_samples=n_minority,     # to match minority class\n",
    "                                           random_state=123) # reproducible results\n",
    "\n",
    "        # Combine minority class with downsampled majority class\n",
    "        df_balanced = pd.concat([df_majority_downsampled, df_minority])\n",
    "\n",
    "        # Option 2: Oversample minority class\n",
    "        df_minority_upsampled = resample(df_minority, \n",
    "                                         replace=True,     # sample with replacement\n",
    "                                         n_samples=n_majority,    # to match majority class\n",
    "                                         random_state=123) # reproducible results\n",
    "\n",
    "        # Combine majority class with upsampled minority class\n",
    "        df_balanced = pd.concat([df_majority, df_minority_upsampled])\n",
    "\n",
    "        # Display new class counts\n",
    "        print(df_balanced['target'].value_counts())\n",
    "\n",
    "        # Save the balanced dataset\n",
    "        df_balanced.to_csv('balanced_dataset.csv', index=False)\n",
    "    else:\n",
    "        print(\"One of the classes has no samples.\")\n",
    "else:\n",
    "    print(\"Dataset does not contain both 'genuine' and 'fake' labels.\")\n"
   ]
  }
 ],
 "metadata": {
  "kernelspec": {
   "display_name": "Python 3",
   "language": "python",
   "name": "python3"
  },
  "language_info": {
   "codemirror_mode": {
    "name": "ipython",
    "version": 3
   },
   "file_extension": ".py",
   "mimetype": "text/x-python",
   "name": "python",
   "nbconvert_exporter": "python",
   "pygments_lexer": "ipython3",
   "version": "3.11.4"
  }
 },
 "nbformat": 4,
 "nbformat_minor": 2
}
