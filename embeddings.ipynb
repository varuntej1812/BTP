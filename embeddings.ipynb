{
 "cells": [
  {
   "cell_type": "markdown",
   "metadata": {},
   "source": [
    "Glove"
   ]
  },
  {
   "cell_type": "code",
   "execution_count": 1,
   "metadata": {},
   "outputs": [],
   "source": [
    "import pandas as pd\n",
    "import numpy as np\n",
    "from sklearn.model_selection import train_test_split\n",
    "from sklearn.linear_model import LogisticRegression\n",
    "from sklearn.metrics import classification_report"
   ]
  },
  {
   "cell_type": "code",
   "execution_count": null,
   "metadata": {},
   "outputs": [],
   "source": [
    "df = pd.read_csv(\"CleanedDataset.csv\")\n",
    "text_values = df['preprocessed_review_text']"
   ]
  },
  {
   "cell_type": "code",
   "execution_count": null,
   "metadata": {},
   "outputs": [],
   "source": [
    "def load_glove_embeddings(file_path):\n",
    "    embeddings_index = {} \n",
    "    word_to_index = {}\n",
    "    index = 0\n",
    "\n",
    "    with open(file_path, encoding='utf-8') as f:\n",
    "        for line in f:\n",
    "            values = line.split()\n",
    "            word = values[0]\n",
    "            vector = np.asarray(values[1:], dtype='float32')\n",
    "            embeddings_index[word] = vector\n",
    "            word_to_index[word] = index\n",
    "            index += 1\n",
    "\n",
    "    return embeddings_index, word_to_index\n",
    "\n",
    "glove_file_path = 'glove.6B/glove.6B.100d.txt'\n",
    "glove_embeddings, word_to_index = load_glove_embeddings(glove_file_path)"
   ]
  },
  {
   "cell_type": "code",
   "execution_count": null,
   "metadata": {},
   "outputs": [],
   "source": [
    "#SIMPLE: CONVERT TEXT TO NUMERICAL REPRESENTATIONS\n",
    "vectorised_text = []\n",
    "for text in text_values:\n",
    "    tokens = text.split()\n",
    "    vectors = [glove_embeddings.get(word, np.random.rand(100)) for word in tokens]\n",
    "    text_vector = np.mean(vectors, axis=0)\n",
    "    vectorised_text.append(text_vector)\n",
    "vectorised_text = np.array(vectorised_text)"
   ]
  }
 ],
 "metadata": {
  "kernelspec": {
   "display_name": "Python 3",
   "language": "python",
   "name": "python3"
  },
  "language_info": {
   "codemirror_mode": {
    "name": "ipython",
    "version": 3
   },
   "file_extension": ".py",
   "mimetype": "text/x-python",
   "name": "python",
   "nbconvert_exporter": "python",
   "pygments_lexer": "ipython3",
   "version": "3.12.1"
  }
 },
 "nbformat": 4,
 "nbformat_minor": 2
}
