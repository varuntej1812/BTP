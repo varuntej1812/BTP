{
 "cells": [
  {
   "cell_type": "markdown",
   "metadata": {},
   "source": [
    "rating"
   ]
  },
  {
   "cell_type": "code",
   "execution_count": 8,
   "metadata": {},
   "outputs": [
    {
     "name": "stdout",
     "output_type": "stream",
     "text": [
      "Threshold Rating for Below: 1.5346785546691695\n",
      "Threshold Rating for Above: 4.987705302674801\n",
      "Number of Reviews in Combined File: 6875\n"
     ]
    }
   ],
   "source": [
    "import pandas as pd\n",
    "\n",
    "# Read the CSV file into a DataFrame\n",
    "df = pd.read_csv('CleanedDataset.csv')\n",
    "\n",
    "# Calculate the combined rating of all users based on 'stars' column\n",
    "combined_rating = df['stars'].mean()\n",
    "\n",
    "# Determine the threshold rating for below threshold and above threshold\n",
    "threshold_rating_below = 0.4 * combined_rating\n",
    "threshold_rating_above = 1.3 * combined_rating\n",
    "\n",
    "# Filter reviews based on the condition: rating < threshold rating\n",
    "reviews_below_threshold = df[df['stars'] < threshold_rating_below]\n",
    "\n",
    "# Filter reviews based on the condition: rating > threshold rating\n",
    "reviews_above_threshold = df[df['stars'] > threshold_rating_above]\n",
    "\n",
    "# Concatenate both DataFrames\n",
    "all_filtered_reviews = pd.concat([reviews_below_threshold, reviews_above_threshold])\n",
    "\n",
    "# Store the filtered reviews in a single CSV file\n",
    "all_filtered_reviews.to_csv('all_filtered_reviews.csv', index=False)\n",
    "\n",
    "# Display the threshold rating and the number of reviews in the combined file\n",
    "num_reviews_combined = len(all_filtered_reviews)\n",
    "print(f\"Threshold Rating for Below: {threshold_rating_below}\")\n",
    "print(f\"Threshold Rating for Above: {threshold_rating_above}\")\n",
    "print(f\"Number of Reviews in Combined File: {num_reviews_combined}\")\n"
   ]
  },
  {
   "cell_type": "code",
   "execution_count": 1,
   "metadata": {},
   "outputs": [
    {
     "name": "stdout",
     "output_type": "stream",
     "text": [
      "Threshold Rating for Below: 1.5346785546691695\n",
      "Threshold Rating for Above: 4.987705302674801\n",
      "Number of Reviews in Combined File: 30\n"
     ]
    }
   ],
   "source": [
    "import pandas as pd\n",
    "\n",
    "# Read the CSV file into a DataFrame\n",
    "df = pd.read_csv('CleanedDataset.csv')\n",
    "\n",
    "# Calculate the combined rating of all users based on 'stars' column\n",
    "combined_rating = df['stars'].mean()\n",
    "\n",
    "# Determine the threshold rating for below threshold and above threshold\n",
    "threshold_rating_below = 0.4 * combined_rating\n",
    "threshold_rating_above = 1.3 * combined_rating\n",
    "\n",
    "# Filter reviews based on the condition: rating < threshold rating and review length < 10\n",
    "reviews_below_threshold = df[(df['stars'] < threshold_rating_below) & (df['text'].str.split().str.len() < 10)]\n",
    "\n",
    "# Filter reviews based on the condition: rating > threshold rating and review length < 10\n",
    "reviews_above_threshold = df[(df['stars'] > threshold_rating_above) & (df['text'].str.split().str.len() < 10)]\n",
    "\n",
    "# Concatenate both DataFrames\n",
    "all_filtered_reviews = pd.concat([reviews_below_threshold, reviews_above_threshold])\n",
    "\n",
    "# Store the filtered reviews in a single CSV file\n",
    "all_filtered_reviews.to_csv('all_filtered_reviews.csv', index=False)\n",
    "\n",
    "# Display the threshold rating and the number of reviews in the combined file\n",
    "num_reviews_combined = len(all_filtered_reviews)\n",
    "print(f\"Threshold Rating for Below: {threshold_rating_below}\")\n",
    "print(f\"Threshold Rating for Above: {threshold_rating_above}\")\n",
    "print(f\"Number of Reviews in Combined File: {num_reviews_combined}\")\n"
   ]
  },
  {
   "cell_type": "markdown",
   "metadata": {},
   "source": [
    "timeframe"
   ]
  },
  {
   "cell_type": "code",
   "execution_count": 12,
   "metadata": {},
   "outputs": [
    {
     "name": "stdout",
     "output_type": "stream",
     "text": [
      "Threshold Reviews within 00:00 to 6:00 Time Frame: 450.2482226060666\n",
      "Number of Classified Reviews: 0\n"
     ]
    }
   ],
   "source": [
    "import pandas as pd\n",
    "\n",
    "# Read the CSV file into a DataFrame\n",
    "df = pd.read_csv('CleanedDataset.csv')\n",
    "\n",
    "# Filter the reviews within the specified time frame (00:00 to 6:00)\n",
    "reviews_within_timeframe = df[(df['time'] >= '00:00:00') & (df['time'] < '06:00:00')].copy()\n",
    "\n",
    "# Convert the 'time' column to datetime format\n",
    "reviews_within_timeframe['time'] = pd.to_datetime(reviews_within_timeframe['time'], format='%H:%M:%S')\n",
    " \n",
    "#Group the reviews by 'user_id' and count the number of reviews for each user within the time frame\n",
    "\n",
    "user_reviews_within_timeframe = reviews_within_timeframe.groupby('user_id').size()\n",
    "\n",
    "# Calculate the combined number of reviews within the time frame\n",
    "\n",
    "combined_reviews_within_timeframe = user_reviews_within_timeframe.mean()\n",
    "\n",
    "# Calculate the average time difference between consecutive reviews for each user within the time frame\n",
    "reviews_within_timeframe = reviews_within_timeframe.sort_values(by=['user_id', 'time'])\n",
    "reviews_within_timeframe['time_diff'] = reviews_within_timeframe.groupby('user_id')['time'].diff().dt.total_seconds().fillna(0)\n",
    "user_avg_time_diff = reviews_within_timeframe.groupby('user_id')['time_diff'].mean()\n",
    "combined_avg_time_diff = user_avg_time_diff.mean()\n",
    "\n",
    "# Determine the threshold based on the combined average number of reviews and average time difference within the time frame\n",
    "\n",
    "weight_reviews = 0.5\n",
    "\n",
    "weight_time_diff = 0.5\n",
    "\n",
    "threshold_reviews_within_timeframe = (weight_reviews * combined_reviews_within_timeframe + weight_time_diff * combined_avg_time_diff)\n",
    "\n",
    "# Classify the reviews based on whether the user's number of reviews within the time frame exceeds the threshold\n",
    "\n",
    "classified_reviews = df[df['user_id'].map(user_reviews_within_timeframe) > threshold_reviews_within_timeframe]\n",
    "\n",
    "# Store the classified reviews in a new CSV file\n",
    "\n",
    "classified_reviews.to_csv('classified_reviews.csv', index=False)\n",
    "\n",
    "# Display the threshold and the number of classified reviews\n",
    "\n",
    "num_classified_reviews = len(classified_reviews)\n",
    "\n",
    "print(f\"Threshold Reviews within 00:00 to 6:00 Time Frame: {threshold_reviews_within_timeframe}\")\n",
    "\n",
    "print(f\"Number of Classified Reviews: {num_classified_reviews}\")\n"
   ]
  },
  {
   "cell_type": "markdown",
   "metadata": {},
   "source": [
    "similarity"
   ]
  },
  {
   "cell_type": "code",
   "execution_count": null,
   "metadata": {},
   "outputs": [],
   "source": [
    "from sklearn.feature_extraction.text import TfidfVectorizer\n",
    "from sklearn.metrics.pairwise import cosine_similarity\n",
    "import pandas as pd\n",
    "\n",
    "# Read the CSV file into a DataFrame\n",
    "df = pd.read_csv('CleanedDataset.csv')\n",
    "\n",
    "# Initialize TF-IDF Vectorizer\n",
    "tfidf_vectorizer = TfidfVectorizer()\n",
    "\n",
    "# Fit and transform the text data\n",
    "tfidf_matrix = tfidf_vectorizer.fit_transform(df['text'])\n",
    "\n",
    "# Compute cosine similarity matrix\n",
    "cosine_sim = cosine_similarity(tfidf_matrix, tfidf_matrix)\n",
    "\n",
    "# Define the threshold similarity value\n",
    "threshold_similarity = 0.7  # You can adjust this value based on your requirements\n",
    "\n",
    "# Function to classify reviews based on similarity\n",
    "def classify_reviews(similarity_matrix, threshold):\n",
    "    classified_reviews = []\n",
    "    num_reviews = len(similarity_matrix)\n",
    "    for i in range(num_reviews):\n",
    "        for j in range(i+1, num_reviews):\n",
    "            if similarity_matrix[i][j] >= threshold:\n",
    "                classified_reviews.append((i, j))\n",
    "    return classified_reviews\n",
    "\n",
    "# Get classified reviews based on similarity\n",
    "classified_reviews_indices = classify_reviews(cosine_sim, threshold_similarity)\n",
    "\n",
    "# Convert classified reviews indices to DataFrame\n",
    "classified_reviews_df = pd.DataFrame(classified_reviews_indices, columns=['review_index_1', 'review_index_2'])\n",
    "\n",
    "# Merge with original DataFrame to get review details\n",
    "classified_reviews_details = pd.merge(classified_reviews_df, df, left_on='review_index_1', right_index=True)\n",
    "classified_reviews_details = pd.merge(classified_reviews_details, df, left_on='review_index_2', right_index=True, suffixes=('_1', '_2'))\n",
    "\n",
    "# Save the classified reviews to a new CSV file\n",
    "classified_reviews_details.to_csv('classified_review.csv', index=False)\n",
    "\n",
    "# Display the number of classified reviews\n",
    "num_classified_reviews = len(classified_reviews_details)\n",
    "print(f\"Number of Classified Reviews: {num_classified_reviews}\")\n"
   ]
  },
  {
   "cell_type": "code",
   "execution_count": 2,
   "metadata": {},
   "outputs": [
    {
     "name": "stdout",
     "output_type": "stream",
     "text": [
      "Collecting textblob\n",
      "  Downloading textblob-0.18.0.post0-py3-none-any.whl.metadata (4.5 kB)\n",
      "Requirement already satisfied: nltk>=3.8 in c:\\users\\shiva\\appdata\\local\\programs\\python\\python312\\lib\\site-packages (from textblob) (3.8.1)\n",
      "Requirement already satisfied: click in c:\\users\\shiva\\appdata\\local\\programs\\python\\python312\\lib\\site-packages (from nltk>=3.8->textblob) (8.1.7)\n",
      "Requirement already satisfied: joblib in c:\\users\\shiva\\appdata\\local\\programs\\python\\python312\\lib\\site-packages (from nltk>=3.8->textblob) (1.3.2)\n",
      "Requirement already satisfied: regex>=2021.8.3 in c:\\users\\shiva\\appdata\\local\\programs\\python\\python312\\lib\\site-packages (from nltk>=3.8->textblob) (2023.12.25)\n",
      "Requirement already satisfied: tqdm in c:\\users\\shiva\\appdata\\local\\programs\\python\\python312\\lib\\site-packages (from nltk>=3.8->textblob) (4.66.2)\n",
      "Requirement already satisfied: colorama in c:\\users\\shiva\\appdata\\local\\programs\\python\\python312\\lib\\site-packages (from click->nltk>=3.8->textblob) (0.4.6)\n",
      "Downloading textblob-0.18.0.post0-py3-none-any.whl (626 kB)\n",
      "   ---------------------------------------- 0.0/626.3 kB ? eta -:--:--\n",
      "   ---------------------------------------- 0.0/626.3 kB ? eta -:--:--\n",
      "    --------------------------------------- 10.2/626.3 kB ? eta -:--:--\n",
      "   -- ------------------------------------ 41.0/626.3 kB 393.8 kB/s eta 0:00:02\n",
      "   ----- --------------------------------- 92.2/626.3 kB 655.4 kB/s eta 0:00:01\n",
      "   -------- ----------------------------- 143.4/626.3 kB 853.3 kB/s eta 0:00:01\n",
      "   --------------- ------------------------ 245.8/626.3 kB 1.1 MB/s eta 0:00:01\n",
      "   ------------------ --------------------- 286.7/626.3 kB 1.0 MB/s eta 0:00:01\n",
      "   ----------------------- ---------------- 368.6/626.3 kB 1.1 MB/s eta 0:00:01\n",
      "   ------------------------------ --------- 471.0/626.3 kB 1.3 MB/s eta 0:00:01\n",
      "   ------------------------------ --------- 471.0/626.3 kB 1.3 MB/s eta 0:00:01\n",
      "   -------------------------------- ------- 501.8/626.3 kB 1.1 MB/s eta 0:00:01\n",
      "   ------------------------------------- -- 583.7/626.3 kB 1.1 MB/s eta 0:00:01\n",
      "   ---------------------------------------- 626.3/626.3 kB 1.1 MB/s eta 0:00:00\n",
      "Installing collected packages: textblob\n",
      "Successfully installed textblob-0.18.0.post0\n",
      "Note: you may need to restart the kernel to use updated packages.\n"
     ]
    }
   ],
   "source": [
    "pip install textblob\n"
   ]
  },
  {
   "cell_type": "code",
   "execution_count": 3,
   "metadata": {},
   "outputs": [
    {
     "name": "stdout",
     "output_type": "stream",
     "text": [
      "                                                    text  sentiment_score\n",
      "0      Remarkable food with beach access for the whol...         0.405455\n",
      "1      I loved everything about this lovely train sta...         0.598016\n",
      "2      The Praline Connection makes a mean po' boy.  ...         0.024826\n",
      "3      We walked over to Tennessee Brew Works, one of...         0.144998\n",
      "4      Logan Circle, also known as Logan Square, is a...         0.140657\n",
      "...                                                  ...              ...\n",
      "19174  Worst Burger King on Earth. There will be some...        -0.260000\n",
      "19175  Reliable classics and good take-out service.  ...         0.350000\n",
      "19176  I ordered the whiting, candied yams and fries....         0.268056\n",
      "19177  Fast, friendly, delicious, and affordable! Bes...         0.643750\n",
      "19178  Suzie Hot Sauce is a great place -- if you lik...         0.084509\n",
      "\n",
      "[19179 rows x 2 columns]\n"
     ]
    }
   ],
   "source": [
    "from textblob import TextBlob\n",
    "import pandas as pd\n",
    "\n",
    "# Read the CSV file into a DataFrame\n",
    "df = pd.read_csv('CleanedDataset.csv')\n",
    "\n",
    "# Define a function to calculate sentiment score using TextBlob\n",
    "def calculate_sentiment(text):\n",
    "    blob = TextBlob(text)\n",
    "    sentiment_score = blob.sentiment.polarity\n",
    "    return sentiment_score\n",
    "\n",
    "# Apply the function to calculate sentiment scores for each review text\n",
    "df['sentiment_score'] = df['text'].apply(calculate_sentiment)\n",
    "\n",
    "# Display the DataFrame with sentiment scores\n",
    "print(df[['text', 'sentiment_score']])\n"
   ]
  }
 ],
 "metadata": {
  "kernelspec": {
   "display_name": "Python 3",
   "language": "python",
   "name": "python3"
  },
  "language_info": {
   "codemirror_mode": {
    "name": "ipython",
    "version": 3
   },
   "file_extension": ".py",
   "mimetype": "text/x-python",
   "name": "python",
   "nbconvert_exporter": "python",
   "pygments_lexer": "ipython3",
   "version": "3.12.1"
  }
 },
 "nbformat": 4,
 "nbformat_minor": 2
}
