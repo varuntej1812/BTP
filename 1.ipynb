{
 "cells": [
  {
   "cell_type": "markdown",
   "metadata": {},
   "source": [
    "rating"
   ]
  },
  {
   "cell_type": "code",
   "execution_count": 11,
   "metadata": {},
   "outputs": [
    {
     "name": "stdout",
     "output_type": "stream",
     "text": [
      "Rating Threshold: 3.8366963866729233\n",
      "Sentiment Score Threshold: 0.22439122222461572\n",
      "Number of Filtered Reviews: 4422\n"
     ]
    }
   ],
   "source": [
    "import pandas as pd\n",
    "from textblob import TextBlob\n",
    "\n",
    "# Read the CSV file into a DataFrame\n",
    "df = pd.read_csv('CleanedDataset.csv')\n",
    "\n",
    "# Calculate the combined rating of all users\n",
    "combined_rating = df['stars'].mean()\n",
    "\n",
    "# Determine the threshold rating based on the combined rating\n",
    "rating_threshold = combined_rating\n",
    "\n",
    "# Calculate the sentiment score for each review\n",
    "df['sentiment_score'] = df['text'].apply(lambda x: TextBlob(x).sentiment.polarity)\n",
    "\n",
    "# Calculate the combined sentiment score of all reviews\n",
    "combined_sentiment_score = df['sentiment_score'].mean()\n",
    "\n",
    "# Determine the threshold sentiment score based on the combined sentiment score\n",
    "sentiment_threshold =  combined_sentiment_score\n",
    "\n",
    "# Filter reviews based on both rating and sentiment score thresholds\n",
    "filtered_reviews = df[(df['stars'] < rating_threshold) & (df['sentiment_score'] < sentiment_threshold)]\n",
    "\n",
    "# Store the filtered reviews in a new CSV file\n",
    "filtered_reviews.to_csv('filtered_reviews_combined.csv', index=False)\n",
    "\n",
    "# Display the thresholds and the number of filtered reviews\n",
    "num_filtered_reviews = len(filtered_reviews)\n",
    "print(f\"Rating Threshold: {rating_threshold}\")\n",
    "print(f\"Sentiment Score Threshold: {sentiment_threshold}\")\n",
    "print(f\"Number of Filtered Reviews: {num_filtered_reviews}\")\n"
   ]
  },
  {
   "cell_type": "code",
   "execution_count": 1,
   "metadata": {},
   "outputs": [
    {
     "name": "stdout",
     "output_type": "stream",
     "text": [
      "Threshold Rating for Below: 1.5346785546691695\n",
      "Threshold Rating for Above: 4.987705302674801\n",
      "Number of Reviews in Combined File: 30\n"
     ]
    }
   ],
   "source": [
    "import pandas as pd\n",
    "\n",
    "# Read the CSV file into a DataFrame\n",
    "df = pd.read_csv('CleanedDataset.csv')\n",
    "\n",
    "# Calculate the combined rating of all users based on 'stars' column\n",
    "combined_rating = df['stars'].mean()\n",
    "\n",
    "# Determine the threshold rating for below threshold and above threshold\n",
    "threshold_rating_below = 0.4 * combined_rating\n",
    "threshold_rating_above = 1.3 * combined_rating\n",
    "\n",
    "# Filter reviews based on the condition: rating < threshold rating and review length < 10\n",
    "reviews_below_threshold = df[(df['stars'] < threshold_rating_below) & (df['text'].str.split().str.len() < 10)]\n",
    "\n",
    "# Filter reviews based on the condition: rating > threshold rating and review length < 10\n",
    "reviews_above_threshold = df[(df['stars'] > threshold_rating_above) & (df['text'].str.split().str.len() < 10)]\n",
    "\n",
    "# Concatenate both DataFrames\n",
    "all_filtered_reviews = pd.concat([reviews_below_threshold, reviews_above_threshold])\n",
    "\n",
    "# Store the filtered reviews in a single CSV file\n",
    "all_filtered_reviews.to_csv('all_filtered_reviews.csv', index=False)\n",
    "\n",
    "# Display the threshold rating and the number of reviews in the combined file\n",
    "num_reviews_combined = len(all_filtered_reviews)\n",
    "print(f\"Threshold Rating for Below: {threshold_rating_below}\")\n",
    "print(f\"Threshold Rating for Above: {threshold_rating_above}\")\n",
    "print(f\"Number of Reviews in Combined File: {num_reviews_combined}\")\n"
   ]
  },
  {
   "cell_type": "markdown",
   "metadata": {},
   "source": [
    "timeframe"
   ]
  },
  {
   "cell_type": "code",
   "execution_count": 10,
   "metadata": {},
   "outputs": [
    {
     "name": "stdout",
     "output_type": "stream",
     "text": [
      "Reviews per Day Threshold: 1.0935059011346142\n",
      "Rating Threshold: 3.8366963866729233\n",
      "Number of Filtered Reviews: 3148\n"
     ]
    }
   ],
   "source": [
    "import pandas as pd\n",
    "\n",
    "# Read the CSV file into a DataFrame\n",
    "df = pd.read_csv('CleanedDataset.csv')\n",
    "\n",
    "# Convert the 'date' column to datetime format\n",
    "df['date'] = pd.to_datetime(df['date'])\n",
    "\n",
    "# Group the reviews by 'user_id' and 'date', and count the number of reviews for each user on each day\n",
    "\n",
    "user_reviews_per_day = df.groupby(['user_id', df['date'].dt.date]).size()\n",
    "\n",
    "# Calculate the combined average number of reviews per day\n",
    "combined_avg_reviews_per_day = user_reviews_per_day.mean()\n",
    "\n",
    "# Determine the threshold based on the combined average number of reviews per day\n",
    "threshold_reviews_per_day = combined_avg_reviews_per_day\n",
    "\n",
    "# Calculate the combined rating of all users\n",
    "\n",
    "combined_rating = df['stars'].mean()\n",
    "\n",
    "# Determine the rating threshold based on the combined rating\n",
    "\n",
    "threshold_rating =  combined_rating  # Adjust the threshold as needed\n",
    "\n",
    "# Filter the users based on whether the number of reviews on any single day exceeds the threshold\n",
    "# and the rating is below the rating threshold\n",
    "\n",
    "filtered_users = user_reviews_per_day[(user_reviews_per_day > threshold_reviews_per_day)].reset_index()\n",
    "\n",
    "# Filter the original DataFrame based on the filtered users\n",
    "\n",
    "filtered_reviews = df[df['user_id'].isin(filtered_users['user_id'])]\n",
    "\n",
    "filtered_reviews = filtered_reviews[filtered_reviews['stars'] < threshold_rating]\n",
    "\n",
    "# Store the filtered reviews in a new CSV file\n",
    "\n",
    "filtered_reviews.to_csv('filtered_reviews_threshold.csv', index=False)\n",
    "\n",
    "# Display the threshold and the number of filtered reviews\n",
    "\n",
    "num_filtered_reviews = len(filtered_reviews)\n",
    "print(f\"Reviews per Day Threshold: {threshold_reviews_per_day}\")\n",
    "print(f\"Rating Threshold: {threshold_rating}\")\n",
    "print(f\"Number of Filtered Reviews: {num_filtered_reviews}\")\n"
   ]
  },
  {
   "cell_type": "markdown",
   "metadata": {},
   "source": [
    "similarity"
   ]
  },
  {
   "cell_type": "code",
   "execution_count": 1,
   "metadata": {},
   "outputs": [
    {
     "name": "stdout",
     "output_type": "stream",
     "text": [
      "Number of Similar Reviews: 52\n"
     ]
    }
   ],
   "source": [
    "import pandas as pd\n",
    "from sklearn.feature_extraction.text import TfidfVectorizer\n",
    "from sklearn.metrics.pairwise import cosine_similarity\n",
    "\n",
    "# Read the CSV file into a DataFrame\n",
    "df = pd.read_csv('CleanedDataset.csv')\n",
    "\n",
    "# Initialize TF-IDF Vectorizer\n",
    "tfidf_vectorizer = TfidfVectorizer()\n",
    "\n",
    "# Fit and transform the text data\n",
    "tfidf_matrix = tfidf_vectorizer.fit_transform(df['text'])\n",
    "\n",
    "# Compute cosine similarity matrix\n",
    "cosine_sim = cosine_similarity(tfidf_matrix, tfidf_matrix)\n",
    "\n",
    "# Define the threshold similarity value\n",
    "threshold_similarity = 0.7  # You can adjust this value based on your requirements\n",
    "\n",
    "# Filter reviews based on similarity threshold\n",
    "similar_reviews_indices = [(i, j) for i in range(len(cosine_sim)) for j in range(i+1, len(cosine_sim)) if cosine_sim[i][j] >= threshold_similarity]\n",
    "\n",
    "# Filtered DataFrame based on similarity threshold\n",
    "similar_reviews_df = df.iloc[[index for pair in similar_reviews_indices for index in pair]]\n",
    "\n",
    "# Save the similar reviews to a new CSV file\n",
    "similar_reviews_df.to_csv('similar_reviews.csv', index=False)\n",
    "\n",
    "# Display the number of similar reviews\n",
    "num_similar_reviews = len(similar_reviews_df)\n",
    "print(f\"Number of Similar Reviews: {num_similar_reviews}\")\n"
   ]
  },
  {
   "cell_type": "code",
   "execution_count": 2,
   "metadata": {},
   "outputs": [
    {
     "name": "stdout",
     "output_type": "stream",
     "text": [
      "Collecting textblobNote: you may need to restart the kernel to use updated packages.\n"
     ]
    },
    {
     "name": "stderr",
     "output_type": "stream",
     "text": [
      "\n",
      "[notice] A new release of pip is available: 23.3.2 -> 24.0\n",
      "[notice] To update, run: python.exe -m pip install --upgrade pip\n"
     ]
    },
    {
     "name": "stdout",
     "output_type": "stream",
     "text": [
      "\n",
      "  Downloading textblob-0.18.0.post0-py3-none-any.whl.metadata (4.5 kB)\n",
      "Requirement already satisfied: nltk>=3.8 in c:\\users\\pc\\appdata\\local\\programs\\python\\python312\\lib\\site-packages (from textblob) (3.8.1)\n",
      "Requirement already satisfied: click in c:\\users\\pc\\appdata\\local\\programs\\python\\python312\\lib\\site-packages (from nltk>=3.8->textblob) (8.1.7)\n",
      "Requirement already satisfied: joblib in c:\\users\\pc\\appdata\\local\\programs\\python\\python312\\lib\\site-packages (from nltk>=3.8->textblob) (1.3.2)\n",
      "Requirement already satisfied: regex>=2021.8.3 in c:\\users\\pc\\appdata\\local\\programs\\python\\python312\\lib\\site-packages (from nltk>=3.8->textblob) (2023.12.25)\n",
      "Requirement already satisfied: tqdm in c:\\users\\pc\\appdata\\local\\programs\\python\\python312\\lib\\site-packages (from nltk>=3.8->textblob) (4.66.1)\n",
      "Requirement already satisfied: colorama in c:\\users\\pc\\appdata\\local\\programs\\python\\python312\\lib\\site-packages (from click->nltk>=3.8->textblob) (0.4.6)\n",
      "Downloading textblob-0.18.0.post0-py3-none-any.whl (626 kB)\n",
      "   ---------------------------------------- 0.0/626.3 kB ? eta -:--:--\n",
      "   ----- ---------------------------------- 81.9/626.3 kB 2.3 MB/s eta 0:00:01\n",
      "   -------------- ------------------------- 225.3/626.3 kB 2.3 MB/s eta 0:00:01\n",
      "   ---------------------- ----------------- 358.4/626.3 kB 2.5 MB/s eta 0:00:01\n",
      "   ---------------------- ----------------- 358.4/626.3 kB 2.5 MB/s eta 0:00:01\n",
      "   ---------------------------------------  624.6/626.3 kB 2.8 MB/s eta 0:00:01\n",
      "   ---------------------------------------- 626.3/626.3 kB 2.5 MB/s eta 0:00:00\n",
      "Installing collected packages: textblob\n",
      "Successfully installed textblob-0.18.0.post0\n"
     ]
    }
   ],
   "source": [
    "pip install textblob\n"
   ]
  },
  {
   "cell_type": "markdown",
   "metadata": {},
   "source": [
    "sentiment score"
   ]
  },
  {
   "cell_type": "code",
   "execution_count": 3,
   "metadata": {},
   "outputs": [
    {
     "name": "stdout",
     "output_type": "stream",
     "text": [
      "                                                    text  sentiment_score\n",
      "0      Remarkable food with beach access for the whol...         0.405455\n",
      "1      I loved everything about this lovely train sta...         0.598016\n",
      "2      The Praline Connection makes a mean po' boy.  ...         0.024826\n",
      "3      We walked over to Tennessee Brew Works, one of...         0.144998\n",
      "4      Logan Circle, also known as Logan Square, is a...         0.140657\n",
      "...                                                  ...              ...\n",
      "19174  Worst Burger King on Earth. There will be some...        -0.260000\n",
      "19175  Reliable classics and good take-out service.  ...         0.350000\n",
      "19176  I ordered the whiting, candied yams and fries....         0.268056\n",
      "19177  Fast, friendly, delicious, and affordable! Bes...         0.643750\n",
      "19178  Suzie Hot Sauce is a great place -- if you lik...         0.084509\n",
      "\n",
      "[19179 rows x 2 columns]\n",
      "Average Sentiment Score: 0.22439122222461572\n",
      "Number of reviews above threshold: 9377\n",
      "Number of reviews below threshold: 9802\n"
     ]
    }
   ],
   "source": [
    "from textblob import TextBlob\n",
    "import pandas as pd\n",
    "\n",
    "# Read the CSV file into a DataFrame\n",
    "df = pd.read_csv('CleanedDataset.csv')\n",
    "\n",
    "# Define a function to calculate sentiment score using TextBlob\n",
    "def calculate_sentiment(text):\n",
    "    blob = TextBlob(text)\n",
    "    sentiment_score = blob.sentiment.polarity\n",
    "    return sentiment_score\n",
    "\n",
    "# Apply the function to calculate sentiment scores for each review text\n",
    "df['sentiment_score'] = df['text'].apply(calculate_sentiment)\n",
    "\n",
    "# Display the DataFrame with sentiment scores\n",
    "print(df[['text', 'sentiment_score']])\n",
    "# Calculate the average sentiment score\n",
    "average_sentiment_score = df['sentiment_score'].mean()\n",
    "\n",
    "# Print the average sentiment score\n",
    "print(\"Average Sentiment Score:\", average_sentiment_score)\n",
    "# Calculate the number of reviews above and below the threshold\n",
    "reviews_above_threshold = df[df['sentiment_score'] > average_sentiment_score].shape[0]\n",
    "reviews_below_threshold = df[df['sentiment_score'] < average_sentiment_score].shape[0]\n",
    "\n",
    "# Print the results\n",
    "print(\"Number of reviews above threshold:\", reviews_above_threshold)\n",
    "print(\"Number of reviews below threshold:\", reviews_below_threshold)\n",
    "\n"
   ]
  },
  {
   "cell_type": "markdown",
   "metadata": {},
   "source": [
    "Length"
   ]
  },
  {
   "cell_type": "code",
   "execution_count": 1,
   "metadata": {},
   "outputs": [
    {
     "name": "stdout",
     "output_type": "stream",
     "text": [
      "Average Text Length: 773.362532734755\n",
      "Threshold Value: 773.362532734755\n",
      "Number of User IDs with Text Length Above Threshold: 20194\n",
      "Number of User IDs with Text Length Below or Equal to Threshold: 33266\n"
     ]
    }
   ],
   "source": [
    "import pandas as pd\n",
    "\n",
    "data = pd.read_csv('final_dataset.csv')\n",
    "\n",
    "data['text_length'] = data['text'].apply(len)\n",
    "\n",
    "average_text_length = data['text_length'].mean()\n",
    "\n",
    "threshold = average_text_length\n",
    "\n",
    "above_threshold_count = (data['text_length'] > threshold).sum()\n",
    "\n",
    "below_threshold_count = (data['text_length'] <= threshold).sum()\n",
    "\n",
    "print(\"Average Text Length:\", average_text_length)\n",
    "print(\"Threshold Value:\", threshold)\n",
    "print(\"Number of User IDs with Text Length Above Threshold:\", above_threshold_count)\n",
    "print(\"Number of User IDs with Text Length Below or Equal to Threshold:\", below_threshold_count)\n"
   ]
  },
  {
   "cell_type": "code",
   "execution_count": null,
   "metadata": {},
   "outputs": [],
   "source": []
  }
 ],
 "metadata": {
  "kernelspec": {
   "display_name": "Python 3",
   "language": "python",
   "name": "python3"
  },
  "language_info": {
   "codemirror_mode": {
    "name": "ipython",
    "version": 3
   },
   "file_extension": ".py",
   "mimetype": "text/x-python",
   "name": "python",
   "nbconvert_exporter": "python",
   "pygments_lexer": "ipython3",
   "version": "3.11.4"
  }
 },
 "nbformat": 4,
 "nbformat_minor": 2
}
