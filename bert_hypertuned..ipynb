{
 "cells": [
  {
   "cell_type": "markdown",
   "metadata": {
    "id": "qvM7323i8_Uf"
   },
   "source": []
  },
  {
   "cell_type": "code",
   "execution_count": 1,
   "metadata": {
    "id": "2J_YwA2N8vUx"
   },
   "outputs": [
    {
     "name": "stderr",
     "output_type": "stream",
     "text": [
      "c:\\Users\\AIML\\anaconda3\\envs\\aiml\\Lib\\site-packages\\tqdm\\auto.py:21: TqdmWarning: IProgress not found. Please update jupyter and ipywidgets. See https://ipywidgets.readthedocs.io/en/stable/user_install.html\n",
      "  from .autonotebook import tqdm as notebook_tqdm\n"
     ]
    },
    {
     "name": "stdout",
     "output_type": "stream",
     "text": [
      "cuda\n"
     ]
    }
   ],
   "source": [
    "import pandas as pd\n",
    "import torch\n",
    "import matplotlib.pyplot as plt\n",
    "from sklearn.metrics import (\n",
    "    accuracy_score, precision_score, recall_score, f1_score,\n",
    "    classification_report, roc_curve, auc, confusion_matrix\n",
    ")\n",
    "from transformers import BertForSequenceClassification, BertTokenizer\n",
    "from torch.utils.data import Dataset, DataLoader\n",
    "from sklearn.model_selection import train_test_split\n",
    "import seaborn as sns\n",
    "import optuna\n",
    "\n",
    "# Check for GPU availability\n",
    "device = torch.device('cuda' if torch.cuda.is_available() else 'cpu')\n",
    "print(device)\n"
   ]
  },
  {
   "cell_type": "code",
   "execution_count": 2,
   "metadata": {
    "id": "Kg8yFj1o9EeN"
   },
   "outputs": [
    {
     "name": "stderr",
     "output_type": "stream",
     "text": [
      "Truncation was not explicitly activated but `max_length` is provided a specific value, please use `truncation=True` to explicitly truncate examples to max length. Defaulting to 'longest_first' truncation strategy. If you encode pairs of sequences (GLUE-style) with the tokenizer you can select this strategy more precisely by providing a specific strategy to `truncation`.\n"
     ]
    }
   ],
   "source": [
    "# Load dataset\n",
    "df = pd.read_csv('balanced_dataset.csv')\n",
    "X = df[['text', 'useful']]\n",
    "y = df['target']\n",
    "\n",
    "# Split dataset\n",
    "X_train, X_test, y_train, y_test = train_test_split(X, y, test_size=0.2, random_state=42)\n",
    "\n",
    "# Normalize the \"useful\" column\n",
    "from sklearn.preprocessing import MinMaxScaler\n",
    "scaler = MinMaxScaler()\n",
    "\n",
    "X_train['useful'] = scaler.fit_transform(X_train[['useful']])\n",
    "X_test['useful'] = scaler.transform(X_test[['useful']])\n",
    "\n",
    "# Tokenizer for text\n",
    "tokenizer = BertTokenizer.from_pretrained('bert-base-uncased')\n",
    "\n",
    "# Function to pad and truncate sequences\n",
    "def pad_sequences(input_ids, max_length):\n",
    "    padded_input_ids, attention_masks = [], []\n",
    "    for seq in input_ids:\n",
    "        if len(seq) < max_length:\n",
    "            padded_seq = seq + [0] * (max_length - len(seq))\n",
    "            attention_mask = [1] * len(seq) + [0] * (max_length - len(seq))\n",
    "        else:\n",
    "            padded_seq = seq[:max_length]\n",
    "            attention_mask = [1] * max_length\n",
    "        padded_input_ids.append(padded_seq)\n",
    "        attention_masks.append(attention_mask)\n",
    "    return padded_input_ids\n",
    "\n",
    "\n",
    "# Function to process text\n",
    "def process_text(text_series):\n",
    "    encodings = [tokenizer.encode_plus(text, add_special_tokens=True, max_length=128) for text in text_series]\n",
    "    input_ids = [e['input_ids'] for e in encodings]\n",
    "    return pad_sequences(input_ids, max_length=128), pad_sequences([[1] * len(seq) for seq in input_ids], max_length=128)\n",
    "\n",
    "\n",
    "# Tokenize and pad text data\n",
    "train_text_ids, train_attention_mask = process_text(X_train['text'])\n",
    "test_text_ids, test_attention_mask = process_text(X_test['text'])\n",
    "\n",
    "# Convert to tensors\n",
    "train_text_ids = torch.tensor(train_text_ids, dtype=torch.long)\n",
    "train_attention_mask = torch.tensor(train_attention_mask, dtype=torch.long)\n",
    "test_text_ids = torch.tensor(test_text_ids, dtype=torch.long)\n",
    "test_attention_mask = torch.tensor(test_attention_mask, dtype=torch.long)\n",
    "\n",
    "# Convert numerical feature to tensors\n",
    "train_useful = torch.tensor(X_train['useful'].values, dtype=torch.float32)\n",
    "test_useful = torch.tensor(X_test['useful'].values, dtype=torch.float32)\n",
    "\n",
    "# Map labels\n",
    "label_mapping = {'genuine': 0, 'fake': 1}\n",
    "y_train = y_train.map(label_mapping)\n",
    "y_test = y_test.map(label_mapping)\n",
    "\n",
    "train_labels = torch.tensor(y_train.values, dtype=torch.long)\n",
    "test_labels = torch.tensor(y_test.values, dtype=torch.long)\n"
   ]
  },
  {
   "cell_type": "code",
   "execution_count": 3,
   "metadata": {
    "id": "tBaEZCdl9I6d"
   },
   "outputs": [],
   "source": [
    "class TextAndFeatureDataset(Dataset):\n",
    "    def __init__(self, text_ids, attention_masks, numerical_features, labels):\n",
    "        self.text_ids = text_ids\n",
    "        self.attention_masks = attention_masks\n",
    "        self.numerical_features = numerical_features\n",
    "        self.labels = labels\n",
    "\n",
    "    def __len__(self):\n",
    "        return len(self.labels)\n",
    "\n",
    "    def __getitem__(self, idx):\n",
    "        return {\n",
    "            'text_ids': self.text_ids[idx],\n",
    "            'attention_mask': self.attention_masks[idx],\n",
    "            'useful': self.numerical_features[idx],\n",
    "            'labels': self.labels[idx]\n",
    "        }\n"
   ]
  },
  {
   "cell_type": "code",
   "execution_count": 4,
   "metadata": {
    "id": "b6NWa-2D9YIc"
   },
   "outputs": [],
   "source": [
    "train_dataset = TextAndFeatureDataset(\n",
    "    text_ids=train_text_ids,\n",
    "    attention_masks=train_attention_mask,\n",
    "    numerical_features=train_useful,\n",
    "    labels=train_labels\n",
    ")\n",
    "\n",
    "test_dataset = TextAndFeatureDataset(\n",
    "    text_ids=test_text_ids,\n",
    "    attention_masks=test_attention_mask,\n",
    "    numerical_features=test_useful,\n",
    "    labels=test_labels\n",
    ")\n",
    "\n",
    "train_loader = DataLoader(train_dataset, batch_size=32, shuffle=True)\n",
    "test_loader = DataLoader(test_dataset, batch_size=32, shuffle=False)\n"
   ]
  },
  {
   "cell_type": "code",
   "execution_count": 5,
   "metadata": {
    "id": "_cK2wNjX9chf"
   },
   "outputs": [],
   "source": [
    "class CustomAlbertModel(torch.nn.Module):\n",
    "    def __init__(self, albert_model_name='bert-base-uncased', num_labels=2):\n",
    "        super(CustomAlbertModel, self).__init__()\n",
    "        self.albert = BertForSequenceClassification.from_pretrained(albert_model_name, num_labels=num_labels)\n",
    "        self.feature_layer = torch.nn.Linear(1, 16)  # Process \"useful\" feature\n",
    "        self.classifier = torch.nn.Linear(16 + num_labels, num_labels)\n",
    "\n",
    "    def forward(self, input_ids, attention_mask, useful_features):\n",
    "        albert_outputs = self.albert(input_ids=input_ids, attention_mask=attention_mask).logits\n",
    "        feature_outputs = self.feature_layer(useful_features.unsqueeze(1))\n",
    "        combined = torch.cat((albert_outputs, feature_outputs), dim=1)\n",
    "        logits = self.classifier(combined)\n",
    "        return logits\n"
   ]
  },
  {
   "cell_type": "code",
   "execution_count": 6,
   "metadata": {
    "id": "KjPBbwS09fFX"
   },
   "outputs": [
    {
     "name": "stderr",
     "output_type": "stream",
     "text": [
      "Some weights of BertForSequenceClassification were not initialized from the model checkpoint at bert-base-uncased and are newly initialized: ['classifier.bias', 'classifier.weight']\n",
      "You should probably TRAIN this model on a down-stream task to be able to use it for predictions and inference.\n",
      "c:\\Users\\AIML\\anaconda3\\envs\\aiml\\Lib\\site-packages\\transformers\\models\\bert\\modeling_bert.py:440: UserWarning: 1Torch was not compiled with flash attention. (Triggered internally at C:\\actions-runner\\_work\\pytorch\\pytorch\\builder\\windows\\pytorch\\aten\\src\\ATen\\native\\transformers\\cuda\\sdp_utils.cpp:555.)\n",
      "  attn_output = torch.nn.functional.scaled_dot_product_attention(\n"
     ]
    },
    {
     "name": "stdout",
     "output_type": "stream",
     "text": [
      "Classification Report:\n",
      "               precision    recall  f1-score   support\n",
      "\n",
      "           0       0.78      0.79      0.79      2314\n",
      "           1       0.79      0.78      0.78      2292\n",
      "\n",
      "    accuracy                           0.79      4606\n",
      "   macro avg       0.79      0.79      0.79      4606\n",
      "weighted avg       0.79      0.79      0.79      4606\n",
      "\n"
     ]
    }
   ],
   "source": [
    "# Initialize the model\n",
    "model = CustomAlbertModel()\n",
    "model.to(device)\n",
    "optimizer = torch.optim.AdamW(model.parameters(), lr=1e-5)\n",
    "\n",
    "# Training loop\n",
    "model.train()\n",
    "for epoch in range(3):  # Set epochs based on your needs\n",
    "    for batch in train_loader:\n",
    "        optimizer.zero_grad()\n",
    "        input_ids = batch['text_ids'].to(device)\n",
    "        attention_mask = batch['attention_mask'].to(device)\n",
    "        useful = batch['useful'].to(device)\n",
    "        labels = batch['labels'].to(device)\n",
    "        outputs = model(input_ids=input_ids, attention_mask=attention_mask, useful_features=useful)\n",
    "        loss = torch.nn.CrossEntropyLoss()(outputs, labels)\n",
    "        loss.backward()\n",
    "        optimizer.step()\n",
    "\n",
    "# Evaluation\n",
    "model.eval()\n",
    "all_preds, all_labels, all_probs = [], [], []\n",
    "with torch.no_grad():\n",
    "    for batch in test_loader:\n",
    "        input_ids = batch['text_ids'].to(device)\n",
    "        attention_mask = batch['attention_mask'].to(device)\n",
    "        useful = batch['useful'].to(device)\n",
    "        labels = batch['labels'].to(device)\n",
    "        logits = model(input_ids=input_ids, attention_mask=attention_mask, useful_features=useful)\n",
    "        probs = torch.softmax(logits, dim=1)\n",
    "        preds = torch.argmax(probs, dim=1)\n",
    "        all_probs.extend(probs.cpu().numpy()[:, 1])\n",
    "        all_preds.extend(preds.cpu().numpy())\n",
    "        all_labels.extend(labels.cpu().numpy())\n",
    "\n",
    "# Classification Report\n",
    "print(\"Classification Report:\\n\", classification_report(all_labels, all_preds))\n",
    "\n",
    "# Confusion Matrix and ROC Curve (unchanged, see earlier code)\n"
   ]
  },
  {
   "cell_type": "code",
   "execution_count": 7,
   "metadata": {
    "id": "V05TgHi49l5u"
   },
   "outputs": [
    {
     "name": "stdout",
     "output_type": "stream",
     "text": [
      "Confusion Matrix:\n",
      "TN: 1833, FP: 481, FN: 503, TP: 1789\n",
      "Accuracy: 0.7864\n",
      "Precision: 0.7881\n",
      "Recall: 0.7805\n",
      "F1 Score: 0.7843\n",
      "ROC-AUC: 0.8623\n"
     ]
    },
    {
     "data": {
      "image/png": "[encoded data removed]",
      "text/plain": [
       "<Figure size 800x600 with 1 Axes>"
      ]
     },
     "metadata": {},
     "output_type": "display_data"
    }
   ],
   "source": [
    "from sklearn.metrics import roc_curve, roc_auc_score, confusion_matrix, accuracy_score, precision_score, recall_score, f1_score\n",
    "\n",
    "# Calculate probabilities, predictions, and true labels\n",
    "all_preds, all_labels, all_probs = [], [], []\n",
    "\n",
    "with torch.no_grad():\n",
    "    for batch in test_loader:\n",
    "        input_ids = batch['text_ids'].to(device)\n",
    "        attention_mask = batch['attention_mask'].to(device)\n",
    "        useful = batch['useful'].to(device)\n",
    "        labels = batch['labels'].to(device)\n",
    "\n",
    "        # Get predictions and probabilities\n",
    "        logits = model(input_ids=input_ids, attention_mask=attention_mask, useful_features=useful)\n",
    "        probs = torch.softmax(logits, dim=1)\n",
    "        preds = torch.argmax(probs, dim=1)\n",
    "\n",
    "        # Collect results\n",
    "        all_probs.extend(probs.cpu().numpy()[:, 1])  # Probabilities for positive class\n",
    "        all_preds.extend(preds.cpu().numpy())\n",
    "        all_labels.extend(labels.cpu().numpy())\n",
    "\n",
    "import numpy as np\n",
    "# Convert lists to numpy arrays for metric calculation\n",
    "all_preds = np.array(all_preds)\n",
    "all_labels = np.array(all_labels)\n",
    "all_probs = np.array(all_probs)\n",
    "\n",
    "# Confusion Matrix\n",
    "tn, fp, fn, tp = confusion_matrix(all_labels, all_preds).ravel()\n",
    "\n",
    "# Metrics\n",
    "accuracy = accuracy_score(all_labels, all_preds)\n",
    "precision = precision_score(all_labels, all_preds, zero_division=0)\n",
    "recall = recall_score(all_labels, all_preds, zero_division=0)\n",
    "f1 = f1_score(all_labels, all_preds, zero_division=0)\n",
    "roc_auc = roc_auc_score(all_labels, all_probs)\n",
    "\n",
    "# Print metrics\n",
    "print(f\"Confusion Matrix:\\nTN: {tn}, FP: {fp}, FN: {fn}, TP: {tp}\")\n",
    "print(f\"Accuracy: {accuracy:.4f}\")\n",
    "print(f\"Precision: {precision:.4f}\")\n",
    "print(f\"Recall: {recall:.4f}\")\n",
    "print(f\"F1 Score: {f1:.4f}\")\n",
    "print(f\"ROC-AUC: {roc_auc:.4f}\")\n",
    "\n",
    "# ROC Curve\n",
    "fpr, tpr, thresholds = roc_curve(all_labels, all_probs)\n",
    "\n",
    "# Plot ROC Curve\n",
    "plt.figure(figsize=(8, 6))\n",
    "plt.plot(fpr, tpr, color='darkorange', label=f'ROC Curve (AUC = {roc_auc:.4f})')\n",
    "plt.plot([0, 1], [0, 1], color='navy', linestyle='--')\n",
    "plt.xlabel('False Positive Rate')\n",
    "plt.ylabel('True Positive Rate')\n",
    "plt.title('ROC Curve')\n",
    "plt.legend(loc=\"lower right\")\n",
    "plt.grid()\n",
    "plt.show()\n"
   ]
  },
  {
   "cell_type": "code",
   "execution_count": null,
   "metadata": {},
   "outputs": [],
   "source": []
  }
 ],
 "metadata": {
  "colab": {
   "provenance": []
  },
  "kernelspec": {
   "display_name": "aiml",
   "language": "python",
   "name": "python3"
  },
  "language_info": {
   "codemirror_mode": {
    "name": "ipython",
    "version": 3
   },
   "file_extension": ".py",
   "mimetype": "text/x-python",
   "name": "python",
   "nbconvert_exporter": "python",
   "pygments_lexer": "ipython3",
   "version": "3.12.3"
  }
 },
 "nbformat": 4,
 "nbformat_minor": 0
}
