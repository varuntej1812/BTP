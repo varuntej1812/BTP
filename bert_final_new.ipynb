{
 "cells": [
  {
   "cell_type": "code",
   "execution_count": 1,
   "metadata": {},
   "outputs": [
    {
     "name": "stderr",
     "output_type": "stream",
     "text": [
      "c:\\Users\\AIML\\anaconda3\\envs\\aiml\\Lib\\site-packages\\tqdm\\auto.py:21: TqdmWarning: IProgress not found. Please update jupyter and ipywidgets. See https://ipywidgets.readthedocs.io/en/stable/user_install.html\n",
      "  from .autonotebook import tqdm as notebook_tqdm\n"
     ]
    }
   ],
   "source": [
    "import pandas as pd\n",
    "import torch\n",
    "from transformers import BertForSequenceClassification, BertTokenizer\n",
    "from torch.utils.data import Dataset, DataLoader\n",
    "from sklearn.model_selection import train_test_split\n",
    "from sklearn.metrics import accuracy_score, precision_score, recall_score, f1_score, roc_curve, auc\n",
    "import matplotlib.pyplot as plt\n",
    "import numpy as np\n",
    "from copy import deepcopy   "
   ]
  },
  {
   "cell_type": "code",
   "execution_count": 2,
   "metadata": {},
   "outputs": [
    {
     "name": "stdout",
     "output_type": "stream",
     "text": [
      "cuda\n"
     ]
    }
   ],
   "source": [
    "device = torch.device('cuda' if torch.cuda.is_available() else 'cpu')\n",
    "print(device)"
   ]
  },
  {
   "cell_type": "code",
   "execution_count": 3,
   "metadata": {},
   "outputs": [],
   "source": [
    "df = pd.read_csv('balanced_dataset.csv')\n",
    "X = df[['text','useful']]\n",
    "y = df['target']\n",
    "\n",
    "# Split the data into training and testing sets\n",
    "X_train, X_test, y_train, y_test = train_test_split(X, y, test_size=0.2, random_state=42)\n"
   ]
  },
  {
   "cell_type": "code",
   "execution_count": 4,
   "metadata": {},
   "outputs": [
    {
     "name": "stderr",
     "output_type": "stream",
     "text": [
      "Truncation was not explicitly activated but `max_length` is provided a specific value, please use `truncation=True` to explicitly truncate examples to max length. Defaulting to 'longest_first' truncation strategy. If you encode pairs of sequences (GLUE-style) with the tokenizer you can select this strategy more precisely by providing a specific strategy to `truncation`.\n"
     ]
    }
   ],
   "source": [
    "tokenizer = BertTokenizer.from_pretrained('bert-base-uncased')\n",
    "\n",
    "# Define a function to manually pad sequences\n",
    "def pad_sequences(input_ids, max_length):\n",
    "    padded_input_ids = []\n",
    "    attention_masks = []\n",
    "    \n",
    "    for seq in input_ids:\n",
    "        seq_len = len(seq)\n",
    "        if seq_len < max_length:\n",
    "            # Pad the sequence\n",
    "            padded_seq = seq + [0] * (max_length - seq_len)\n",
    "            attention_mask = [1] * seq_len + [0] * (max_length - seq_len)\n",
    "        else:\n",
    "            # Truncate the sequence\n",
    "            padded_seq = seq[:max_length]\n",
    "            attention_mask = [1] * max_length\n",
    "        \n",
    "        padded_input_ids.append(padded_seq)\n",
    "        attention_masks.append(attention_mask)\n",
    "    \n",
    "    return padded_input_ids, attention_masks\n",
    "\n",
    "# Concatenate 'text', 'useful', 'funny' columns into one string for each row\n",
    "train_texts = (X_train['text'] + \" \" + X_train['useful'].astype(str)).tolist()\n",
    "test_texts = (X_test['text'] + \" \" + X_test['useful'].astype(str)).tolist()\n",
    "\n",
    "# Tokenize and pad the training data\n",
    "train_encodings = [tokenizer.encode_plus(\n",
    "    sentence,\n",
    "    add_special_tokens=True,\n",
    "    max_length=128,\n",
    "    padding=False  # Prevent padding during tokenization\n",
    ") for sentence in train_texts]\n",
    "\n",
    "# Tokenize and pad the testing data\n",
    "test_encodings = [tokenizer.encode_plus(\n",
    "    sentence,\n",
    "    add_special_tokens=True,\n",
    "    max_length=128,\n",
    "    padding=False  # Prevent padding during tokenization\n",
    ") for sentence in test_texts]\n",
    "\n",
    "# Extract input_ids\n",
    "train_input_ids = [encoding['input_ids'] for encoding in train_encodings]\n",
    "test_input_ids = [encoding['input_ids'] for encoding in test_encodings]\n",
    "\n",
    "# Manually pad the sequences\n",
    "train_input_ids, train_attention_mask = pad_sequences(train_input_ids, max_length=128)\n",
    "test_input_ids, test_attention_mask = pad_sequences(test_input_ids, max_length=128)\n",
    "\n",
    "# Convert lists to tensors\n",
    "train_input_ids = torch.tensor(train_input_ids)\n",
    "train_attention_mask = torch.tensor(train_attention_mask)\n",
    "\n",
    "test_input_ids = torch.tensor(test_input_ids)\n",
    "test_attention_mask = torch.tensor(test_attention_mask)\n",
    "\n",
    "# Map the labels to integers (assuming 'y_train' and 'y_test' are your labels)\n",
    "label_mapping = {'genuine': 0, 'fake': 1}\n",
    "\n",
    "# Ensure y_train and y_test are Series containing labels\n",
    "y_train = y_train.map(label_mapping)\n",
    "y_test = y_test.map(label_mapping)\n",
    "\n",
    "# Convert them to PyTorch tensors\n",
    "train_labels = torch.tensor(y_train.values, dtype=torch.long)\n",
    "test_labels = torch.tensor(y_test.values, dtype=torch.long)"
   ]
  },
  {
   "cell_type": "code",
   "execution_count": 5,
   "metadata": {},
   "outputs": [],
   "source": [
    "# Create a Dataset class\n",
    "class TextDataset(Dataset):\n",
    "    def __init__(self, input_ids, attention_masks, labels):\n",
    "        self.input_ids = input_ids\n",
    "        self.attention_masks = attention_masks\n",
    "        self.labels = labels\n",
    "\n",
    "    def __len__(self):\n",
    "        return len(self.labels)\n",
    "\n",
    "    def __getitem__(self, idx):\n",
    "        return {\n",
    "            'input_ids': self.input_ids[idx],\n",
    "            'attention_mask': self.attention_masks[idx],\n",
    "            'labels': self.labels[idx]\n",
    "        }"
   ]
  },
  {
   "cell_type": "code",
   "execution_count": 6,
   "metadata": {},
   "outputs": [],
   "source": [
    "from torch.utils.data import TensorDataset, DataLoader\n",
    "\n",
    "# Create TensorDataset\n",
    "train_dataset = TensorDataset(train_input_ids, train_attention_mask, train_labels)\n",
    "train_loader = DataLoader(train_dataset, batch_size=16, shuffle=True)\n",
    "\n",
    "test_dataset = TensorDataset(test_input_ids, test_attention_mask, test_labels)\n",
    "test_loader = DataLoader(test_dataset, batch_size=16, shuffle=False)\n"
   ]
  },
  {
   "cell_type": "code",
   "execution_count": 7,
   "metadata": {},
   "outputs": [
    {
     "name": "stderr",
     "output_type": "stream",
     "text": [
      "Some weights of BertForSequenceClassification were not initialized from the model checkpoint at bert-base-uncased and are newly initialized: ['classifier.bias', 'classifier.weight']\n",
      "You should probably TRAIN this model on a down-stream task to be able to use it for predictions and inference.\n"
     ]
    },
    {
     "data": {
      "text/plain": [
       "BertForSequenceClassification(\n",
       "  (bert): BertModel(\n",
       "    (embeddings): BertEmbeddings(\n",
       "      (word_embeddings): Embedding(30522, 768, padding_idx=0)\n",
       "      (position_embeddings): Embedding(512, 768)\n",
       "      (token_type_embeddings): Embedding(2, 768)\n",
       "      (LayerNorm): LayerNorm((768,), eps=1e-12, elementwise_affine=True)\n",
       "      (dropout): Dropout(p=0.1, inplace=False)\n",
       "    )\n",
       "    (encoder): BertEncoder(\n",
       "      (layer): ModuleList(\n",
       "        (0-11): 12 x BertLayer(\n",
       "          (attention): BertAttention(\n",
       "            (self): BertSdpaSelfAttention(\n",
       "              (query): Linear(in_features=768, out_features=768, bias=True)\n",
       "              (key): Linear(in_features=768, out_features=768, bias=True)\n",
       "              (value): Linear(in_features=768, out_features=768, bias=True)\n",
       "              (dropout): Dropout(p=0.1, inplace=False)\n",
       "            )\n",
       "            (output): BertSelfOutput(\n",
       "              (dense): Linear(in_features=768, out_features=768, bias=True)\n",
       "              (LayerNorm): LayerNorm((768,), eps=1e-12, elementwise_affine=True)\n",
       "              (dropout): Dropout(p=0.1, inplace=False)\n",
       "            )\n",
       "          )\n",
       "          (intermediate): BertIntermediate(\n",
       "            (dense): Linear(in_features=768, out_features=3072, bias=True)\n",
       "            (intermediate_act_fn): GELUActivation()\n",
       "          )\n",
       "          (output): BertOutput(\n",
       "            (dense): Linear(in_features=3072, out_features=768, bias=True)\n",
       "            (LayerNorm): LayerNorm((768,), eps=1e-12, elementwise_affine=True)\n",
       "            (dropout): Dropout(p=0.1, inplace=False)\n",
       "          )\n",
       "        )\n",
       "      )\n",
       "    )\n",
       "    (pooler): BertPooler(\n",
       "      (dense): Linear(in_features=768, out_features=768, bias=True)\n",
       "      (activation): Tanh()\n",
       "    )\n",
       "  )\n",
       "  (dropout): Dropout(p=0.1, inplace=False)\n",
       "  (classifier): Linear(in_features=768, out_features=2, bias=True)\n",
       ")"
      ]
     },
     "execution_count": 7,
     "metadata": {},
     "output_type": "execute_result"
    }
   ],
   "source": [
    "# Load the XLNet model\n",
    "model = BertForSequenceClassification.from_pretrained('bert-base-uncased', num_labels=2)\n",
    "\n",
    "# Define the optimizer\n",
    "optimizer = torch.optim.AdamW(model.parameters(), lr=1e-5)\n",
    "\n",
    "# Define the device\n",
    "\n",
    "model.to(device)"
   ]
  },
  {
   "cell_type": "code",
   "execution_count": 8,
   "metadata": {},
   "outputs": [],
   "source": [
    "import torch.nn.functional as F\n",
    "\n",
    "def train(model, device, loader, optimizer):\n",
    "    model.train()\n",
    "    total_loss = 0.0\n",
    "    correct = 0\n",
    "    total = 0\n",
    "\n",
    "    for batch in loader:\n",
    "        input_ids, attention_mask, labels = [item.to(device) for item in batch]\n",
    "\n",
    "        optimizer.zero_grad()\n",
    "        outputs = model(input_ids=input_ids, attention_mask=attention_mask)\n",
    "        logits = outputs[0]  # Get logits from the tuple\n",
    "\n",
    "        # Compute the loss\n",
    "        loss = F.cross_entropy(logits, labels)\n",
    "\n",
    "        loss.backward()\n",
    "        optimizer.step()\n",
    "\n",
    "        total_loss += loss.item()\n",
    "        preds = torch.argmax(logits, dim=1)\n",
    "        correct += (preds == labels).sum().item()\n",
    "        total += labels.size(0)\n",
    "\n",
    "    avg_loss = total_loss / len(loader)\n",
    "    accuracy = correct / total\n",
    "\n",
    "    return avg_loss, accuracy\n"
   ]
  },
  {
   "cell_type": "code",
   "execution_count": 9,
   "metadata": {},
   "outputs": [],
   "source": [
    "def evaluate(model, device, loader):\n",
    "    model.eval()\n",
    "    total_loss = 0.0\n",
    "    correct = 0\n",
    "    total = 0\n",
    "\n",
    "    with torch.no_grad():\n",
    "        for batch in loader:\n",
    "            input_ids, attention_mask, labels = [item.to(device) for item in batch]\n",
    "\n",
    "            outputs = model(input_ids=input_ids, attention_mask=attention_mask)\n",
    "            logits = outputs[0]  # Get logits from the tuple\n",
    "\n",
    "            # Compute the loss\n",
    "            loss = F.cross_entropy(logits, labels)\n",
    "\n",
    "            total_loss += loss.item()\n",
    "            preds = torch.argmax(logits, dim=1)\n",
    "            correct += (preds == labels).sum().item()\n",
    "            total += labels.size(0)\n",
    "\n",
    "    avg_loss = total_loss / len(loader)\n",
    "    accuracy = correct / total\n",
    "\n",
    "    return avg_loss, accuracy, preds, labels\n"
   ]
  },
  {
   "cell_type": "code",
   "execution_count": 10,
   "metadata": {},
   "outputs": [],
   "source": [
    "# Early Stopping\n",
    "best_valid_loss = float('inf')\n",
    "patience = 5\n",
    "patience_counter = 0\n",
    "\n",
    "train_losses = []\n",
    "valid_losses = []\n"
   ]
  },
  {
   "cell_type": "code",
   "execution_count": 11,
   "metadata": {},
   "outputs": [
    {
     "name": "stderr",
     "output_type": "stream",
     "text": [
      "c:\\Users\\AIML\\anaconda3\\envs\\aiml\\Lib\\site-packages\\transformers\\models\\bert\\modeling_bert.py:440: UserWarning: 1Torch was not compiled with flash attention. (Triggered internally at C:\\actions-runner\\_work\\pytorch\\pytorch\\builder\\windows\\pytorch\\aten\\src\\ATen\\native\\transformers\\cuda\\sdp_utils.cpp:555.)\n",
      "  attn_output = torch.nn.functional.scaled_dot_product_attention(\n"
     ]
    },
    {
     "name": "stdout",
     "output_type": "stream",
     "text": [
      "Epoch 1, Train Loss: 0.5026, Train Accuracy: 0.7570\n",
      "Epoch 1, Valid Loss: 0.4645, Valid Accuracy: 0.7870\n",
      "Epoch 2, Train Loss: 0.4032, Train Accuracy: 0.8273\n",
      "Epoch 2, Valid Loss: 0.4531, Valid Accuracy: 0.7905\n",
      "Epoch 3, Train Loss: 0.3055, Train Accuracy: 0.8785\n",
      "Epoch 3, Valid Loss: 0.5169, Valid Accuracy: 0.7911\n",
      "Epoch 4, Train Loss: 0.2013, Train Accuracy: 0.9274\n",
      "Epoch 4, Valid Loss: 0.6468, Valid Accuracy: 0.7829\n",
      "Epoch 5, Train Loss: 0.1227, Train Accuracy: 0.9584\n",
      "Epoch 5, Valid Loss: 0.7043, Valid Accuracy: 0.7779\n",
      "Epoch 6, Train Loss: 0.0767, Train Accuracy: 0.9744\n",
      "Epoch 6, Valid Loss: 0.9311, Valid Accuracy: 0.7688\n",
      "Epoch 7, Train Loss: 0.0557, Train Accuracy: 0.9807\n",
      "Epoch 7, Valid Loss: 1.0496, Valid Accuracy: 0.7640\n",
      "Early stopping triggered.\n"
     ]
    }
   ],
   "source": [
    "for epoch in range(50):  # Large number of epochs to allow for early stopping\n",
    "    avg_train_loss, train_accuracy = train(model, device, train_loader, optimizer)\n",
    "    avg_valid_loss, valid_accuracy, _, _ = evaluate(model, device, test_loader)\n",
    "\n",
    "    train_losses.append(avg_train_loss)\n",
    "    valid_losses.append(avg_valid_loss)\n",
    "\n",
    "    print(f\"Epoch {epoch + 1}, Train Loss: {avg_train_loss:.4f}, Train Accuracy: {train_accuracy:.4f}\")\n",
    "    print(f\"Epoch {epoch + 1}, Valid Loss: {avg_valid_loss:.4f}, Valid Accuracy: {valid_accuracy:.4f}\")\n",
    "\n",
    "    if avg_valid_loss < best_valid_loss:\n",
    "        best_valid_loss = avg_valid_loss\n",
    "        best_model = deepcopy(model)\n",
    "        patience_counter = 0\n",
    "    else:\n",
    "        patience_counter += 1\n",
    "\n",
    "    if patience_counter >= patience:\n",
    "        print(\"Early stopping triggered.\")\n",
    "        break\n"
   ]
  },
  {
   "cell_type": "code",
   "execution_count": 12,
   "metadata": {},
   "outputs": [
    {
     "name": "stdout",
     "output_type": "stream",
     "text": [
      "Test Accuracy: 0.7905\n"
     ]
    }
   ],
   "source": [
    "# Evaluate the best model on the test set\n",
    "_, test_accuracy, all_preds, all_labels = evaluate(best_model, device, test_loader)\n",
    "print(f\"Test Accuracy: {test_accuracy:.4f}\")"
   ]
  },
  {
   "cell_type": "code",
   "execution_count": 13,
   "metadata": {},
   "outputs": [
    {
     "name": "stdout",
     "output_type": "stream",
     "text": [
      "              precision    recall  f1-score   support\n",
      "\n",
      "     genuine       0.86      0.75      0.80         8\n",
      "        fake       0.71      0.83      0.77         6\n",
      "\n",
      "    accuracy                           0.79        14\n",
      "   macro avg       0.79      0.79      0.78        14\n",
      "weighted avg       0.80      0.79      0.79        14\n",
      "\n"
     ]
    }
   ],
   "source": [
    "from sklearn.metrics import classification_report\n",
    "\n",
    "# Assuming all_labels and all_preds are your true labels and predicted labels\n",
    "all_labels_cpu = all_labels.cpu().numpy()  # Move to CPU and convert to NumPy array\n",
    "all_preds_cpu = all_preds.cpu().numpy()    # Move to CPU and convert to NumPy array\n",
    "\n",
    "# Print the classification report\n",
    "print(classification_report(all_labels_cpu, all_preds_cpu, target_names=['genuine', 'fake']))\n"
   ]
  },
  {
   "cell_type": "code",
   "execution_count": 14,
   "metadata": {},
   "outputs": [
    {
     "name": "stdout",
     "output_type": "stream",
     "text": [
      "Confusion Matrix:\n",
      "TP: 5, FP: 2, TN: 6, FN: 1\n",
      "\n",
      "Metrics:\n",
      "Accuracy: 0.7857\n",
      "Precision: 0.7143\n",
      "Recall: 0.8333\n",
      "F1 Score: 0.7692\n"
     ]
    }
   ],
   "source": [
    "from sklearn.metrics import confusion_matrix\n",
    "\n",
    "# Ensure labels and predictions are on the CPU and as NumPy arrays\n",
    "all_labels_cpu = all_labels.cpu().numpy()  # Ground truth labels\n",
    "all_preds_cpu = all_preds.cpu().numpy()    # Predicted labels or probabilities (use predicted labels here)\n",
    "\n",
    "# Convert probabilities to binary predictions if needed\n",
    "threshold = 0.5\n",
    "binary_preds = (all_preds_cpu >= threshold).astype(int)\n",
    "\n",
    "# Calculate confusion matrix\n",
    "tn, fp, fn, tp = confusion_matrix(all_labels_cpu, binary_preds).ravel()\n",
    "\n",
    "# Calculate metrics\n",
    "accuracy = (tp + tn) / (tp + fp + tn + fn)\n",
    "precision = tp / (tp + fp) if (tp + fp) > 0 else 0.0\n",
    "recall = tp / (tp + fn) if (tp + fn) > 0 else 0.0\n",
    "f1_score = (2 * precision * recall) / (precision + recall) if (precision + recall) > 0 else 0.0\n",
    "\n",
    "# Print results\n",
    "print(\"Confusion Matrix:\")\n",
    "print(f\"TP: {tp}, FP: {fp}, TN: {tn}, FN: {fn}\")\n",
    "print(\"\\nMetrics:\")\n",
    "print(f\"Accuracy: {accuracy:.4f}\")\n",
    "print(f\"Precision: {precision:.4f}\")\n",
    "print(f\"Recall: {recall:.4f}\")\n",
    "print(f\"F1 Score: {f1_score:.4f}\")\n"
   ]
  },
  {
   "cell_type": "code",
   "execution_count": 15,
   "metadata": {},
   "outputs": [
    {
     "name": "stdout",
     "output_type": "stream",
     "text": [
      "ROC AUC: 0.7916666666666666\n"
     ]
    }
   ],
   "source": [
    "from sklearn.metrics import roc_curve, auc\n",
    "\n",
    "# Ensure tensors are moved to CPU and converted to NumPy\n",
    "all_labels_cpu = all_labels.cpu().numpy()  # Convert labels to CPU and NumPy\n",
    "all_preds_cpu = all_preds.cpu().numpy()    # Convert predictions/probabilities to CPU and NumPy\n",
    "\n",
    "# Compute ROC curve and AUC\n",
    "fpr, tpr, _ = roc_curve(all_labels_cpu, all_preds_cpu)\n",
    "roc_auc = auc(fpr, tpr)\n",
    "\n",
    "print(f\"ROC AUC: {roc_auc}\")\n"
   ]
  },
  {
   "cell_type": "code",
   "execution_count": 16,
   "metadata": {},
   "outputs": [
    {
     "data": {
      "image/png": "[encoded data removed]",
      "text/plain": [
       "<Figure size 640x480 with 1 Axes>"
      ]
     },
     "metadata": {},
     "output_type": "display_data"
    }
   ],
   "source": [
    "plt.figure()\n",
    "plt.plot(fpr, tpr, color='darkorange', lw=2, label='ROC curve (area = %0.2f)' % roc_auc)\n",
    "plt.plot([0, 1], [0, 1], color='navy', lw=2, linestyle='--')\n",
    "plt.xlim([0.0, 1.0])\n",
    "plt.ylim([0.0, 1.05])\n",
    "plt.xlabel('False Positive Rate')\n",
    "plt.ylabel('True Positive Rate')\n",
    "plt.title('ROC curve of Bert')\n",
    "plt.legend(loc=\"lower right\")\n",
    "plt.show()"
   ]
  },
  {
   "cell_type": "code",
   "execution_count": 17,
   "metadata": {},
   "outputs": [
    {
     "name": "stdout",
     "output_type": "stream",
     "text": [
      "              precision    recall  f1-score   support\n",
      "\n",
      "           0       0.86      0.75      0.80         8\n",
      "           1       0.71      0.83      0.77         6\n",
      "\n",
      "    accuracy                           0.79        14\n",
      "   macro avg       0.79      0.79      0.78        14\n",
      "weighted avg       0.80      0.79      0.79        14\n",
      "\n"
     ]
    }
   ],
   "source": [
    "from sklearn.metrics import classification_report\n",
    "print(classification_report(all_labels_cpu, all_preds_cpu))"
   ]
  },
  {
   "cell_type": "code",
   "execution_count": null,
   "metadata": {},
   "outputs": [],
   "source": []
  }
 ],
 "metadata": {
  "kernelspec": {
   "display_name": "aiml",
   "language": "python",
   "name": "python3"
  },
  "language_info": {
   "codemirror_mode": {
    "name": "ipython",
    "version": 3
   },
   "file_extension": ".py",
   "mimetype": "text/x-python",
   "name": "python",
   "nbconvert_exporter": "python",
   "pygments_lexer": "ipython3",
   "version": "3.12.3"
  }
 },
 "nbformat": 4,
 "nbformat_minor": 4
}
