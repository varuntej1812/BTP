{
 "cells": [
  {
   "cell_type": "markdown",
   "id": "581313dc",
   "metadata": {},
   "source": [
    "Number of Reviews posted by each user on a particular date"
   ]
  },
  {
   "cell_type": "code",
   "execution_count": 26,
   "id": "807a7ee5-5966-40d0-8f47-2bdeb0a78132",
   "metadata": {},
   "outputs": [
    {
     "name": "stdout",
     "output_type": "stream",
     "text": [
      "                      user_id       date  num_reviews\n",
      "0      ---2PmXbF47D870stH1jqA 2014-07-10            1\n",
      "1      ---2PmXbF47D870stH1jqA 2014-10-28            1\n",
      "2      ---2PmXbF47D870stH1jqA 2015-06-27            1\n",
      "3      --3WaS23LcIXtxyFULJHTA 2015-10-02            1\n",
      "4      --6PFZka7og6Khaw6oyjvQ 2015-05-30            1\n",
      "...                       ...        ...          ...\n",
      "95681  zziJLt25YU6dp01sewR-IQ 2010-11-25            1\n",
      "95682  zziJLt25YU6dp01sewR-IQ 2012-02-10            1\n",
      "95683  zziJLt25YU6dp01sewR-IQ 2012-10-29            1\n",
      "95684  zziJLt25YU6dp01sewR-IQ 2012-11-01            1\n",
      "95685  zziJLt25YU6dp01sewR-IQ 2012-11-04            1\n",
      "\n",
      "[95686 rows x 3 columns]\n"
     ]
    }
   ],
   "source": [
    "import pandas as pd\n",
    "df = pd.read_csv('btp.csv')\n",
    "df['date'] = pd.to_datetime(df['date'])\n",
    "user_date_review_counts = df.groupby(['user_id', 'date'])['review_id'].count().reset_index()\n",
    "user_date_review_counts.columns = ['user_id', 'date', 'num_reviews']\n",
    "print(user_date_review_counts)"
   ]
  },
  {
   "cell_type": "code",
   "execution_count": 27,
   "id": "491fe2bb",
   "metadata": {},
   "outputs": [
    {
     "name": "stdout",
     "output_type": "stream",
     "text": [
      "                      user_id       date  num_reviews\n",
      "8080   4F59l8scDgg6BQx0HGRtcQ 2015-01-03            6\n",
      "14484  8O5tGAz_LFuX3JTim7Egyg 2011-03-03            8\n",
      "14528  8RcEwGrFIgkt9WQ35E6SnQ 2016-08-19            9\n",
      "17483  AW2cimP0kAlKiNs4iEwa7A 2013-02-22            6\n",
      "19717  BrH27yHhgDEylDZfFdJvSQ 2009-03-28            6\n",
      "20902  Cf8Jw9yX8RrG-l4PQoMkuw 2012-02-26            8\n",
      "28347  Hn8O2RQijYIVLFNF5VPWTA 2011-01-04           10\n",
      "34220  LlLNWV5FmKvjOj0p5qGYeg 2010-05-23            6\n",
      "36539  NUtIAX-ygn474tDg5nmesg 2015-02-16            7\n",
      "39465  PUj5BTAscm67FZQkqe2qwQ 2015-09-13            6\n",
      "53928  YzckMAdpT00nnHutGtTWEQ 2014-02-05            7\n",
      "55490  _4Wn2zRkrmDfowBrNcji0Q 2013-06-02            6\n",
      "58246  amIUTkKQlA4464-lJlwlaQ 2013-03-20            6\n",
      "58917  bJQgJdeqvE7njsTZomhaoQ 2016-07-12            6\n",
      "76121  n-lBS02-3yvlY5Q91mmwDA 2005-07-10           11\n",
      "77340  nnwBdqGHIAJQ5QX9lHOtrQ 2009-01-27            9\n",
      "84158  sLqm9fRo_u81kJCIRdzrMg 2008-05-24           11\n",
      "87278  uZzs_KFzSDFjpyVLyl7Pqg 2010-06-29            8\n",
      "92058  xjQSpme1Z7Xw8XehRLpYuA 2012-06-26            6\n",
      "94000  yyxEa8y4HGij_m7g1wDKWg 2015-04-10            6\n"
     ]
    }
   ],
   "source": [
    "df['date'] = pd.to_datetime(df['date'])\n",
    "user_date_review_counts = df.groupby(['user_id', 'date'])['review_id'].count().reset_index()\n",
    "user_date_review_counts.columns = ['user_id', 'date', 'num_reviews']\n",
    "users_with_more_than_5_reviews = user_date_review_counts[user_date_review_counts['num_reviews'] > 5]\n",
    "print(users_with_more_than_5_reviews)"
   ]
  },
  {
   "cell_type": "markdown",
   "id": "5962c8a3",
   "metadata": {},
   "source": [
    "Total Reviews on each date"
   ]
  },
  {
   "cell_type": "code",
   "execution_count": 36,
   "id": "29c6a512",
   "metadata": {},
   "outputs": [
    {
     "name": "stdout",
     "output_type": "stream",
     "text": [
      "0       1\n",
      "1       2\n",
      "2       1\n",
      "3       1\n",
      "4       2\n",
      "       ..\n",
      "5430    1\n",
      "5431    1\n",
      "5432    1\n",
      "5433    1\n",
      "5434    1\n",
      "Name: total_reviews, Length: 5435, dtype: int64\n"
     ]
    }
   ],
   "source": [
    "filtered_reviews = total_reviews_by_date['total_reviews']\n",
    "\n",
    "# Display the result\n",
    "print(filtered_reviews)"
   ]
  },
  {
   "cell_type": "markdown",
   "id": "18192ea8",
   "metadata": {},
   "source": [
    "Less than 60 seconds time difference reviews"
   ]
  },
  {
   "cell_type": "code",
   "execution_count": 37,
   "id": "fb7dd66c",
   "metadata": {},
   "outputs": [
    {
     "name": "stderr",
     "output_type": "stream",
     "text": [
      "C:\\Users\\pc\\AppData\\Local\\Temp\\ipykernel_8028\\2336372979.py:3: UserWarning: Could not infer format, so each element will be parsed individually, falling back to `dateutil`. To ensure parsing is consistent and as-expected, please specify a format.\n",
      "  df['time'] = pd.to_datetime(df['time'])\n"
     ]
    },
    {
     "name": "stdout",
     "output_type": "stream",
     "text": [
      "                      user_id       date  num_reviews\n",
      "36     -0vutwuE36iYMqM2wHaStQ 2009-03-12            2\n",
      "41     -13RX4Gy_F-zoLIenWAo-w 2007-04-20            2\n",
      "45     -2TJaAdxSGnTyy9qGr1z1Q 2011-04-08            2\n",
      "49     -2Vg22LqKpg0zjf5A-SWLA 2015-01-23            2\n",
      "62     -2nNiAnDaSbQayynsqgL6Q 2011-09-20            2\n",
      "...                       ...        ...          ...\n",
      "95614  zwPKdviIT_C4CD2ZL_nJyQ 2012-06-19            2\n",
      "95621  zx4c7K-1eBSvEmUg7zqiZQ 2011-03-09            2\n",
      "95631  zxeXnjqmlrAspfk17LSZCg 2011-03-20            3\n",
      "95639  zxuxd6Hz2tKcpgZ71dYEcw 2014-04-03            2\n",
      "95654  zyNrXvJyYdC34tS6BcCykA 2009-11-17            3\n",
      "\n",
      "[6503 rows x 3 columns]\n",
      "                      user_id       date       time_diff\n",
      "43095  -NMGRUbMdKZ7acHGWKvy8Q 2010-09-07 0 days 00:00:34\n",
      "90140  -hq6dkvt907T0MPJK9Qaig 2013-04-16 0 days 00:00:29\n",
      "96233  0Cl_C3VvG88g-Hussui3_Q 2014-06-28 0 days 00:00:32\n",
      "28479  0EQlpgEQVTxCeKd7CbetdQ 2010-12-15 0 days 00:00:59\n",
      "27996  0d1Qa6dckkZ9UTK_1_eNTw 2012-10-14 0 days 00:00:42\n",
      "...                       ...        ...             ...\n",
      "88667  xl2Lspp8Ltqy_qTVMNja_g 2011-01-06 0 days 00:00:45\n",
      "14639  xyFtRXaTjhStZB3Zb9uFvA 2008-01-16 0 days 00:00:52\n",
      "18950  yoa61s3IdHwi8q5_gLvzaw 2012-10-25 0 days 00:00:51\n",
      "28270  yx8wkvWdCH-eN6PHWKT7Wg 2014-02-19 0 days 00:00:55\n",
      "62539  zxeXnjqmlrAspfk17LSZCg 2011-03-20 0 days 00:00:54\n",
      "\n",
      "[148 rows x 3 columns]\n"
     ]
    }
   ],
   "source": [
    "import pandas as pd\n",
    "df['date'] = pd.to_datetime(df['date'])\n",
    "df['time'] = pd.to_datetime(df['time'])\n",
    "df.sort_values(by=['user_id', 'date', 'time'], inplace=True)\n",
    "df['time_diff'] = df.groupby(['user_id', 'date'])['time'].diff()\n",
    "user_date_review_counts = df.groupby(['user_id', 'date'])['review_id'].count().reset_index()\n",
    "user_date_review_counts.columns = ['user_id', 'date', 'num_reviews']\n",
    "users_with_more_than_1_review = user_date_review_counts[user_date_review_counts['num_reviews'] > 1]\n",
    "print(users_with_more_than_1_review[['user_id', 'date', 'num_reviews']])\n",
    "filtered_rows = df.loc[(df['user_id'].isin(users_with_more_than_1_review['user_id'])) & (df['time_diff'] < pd.Timedelta('60 seconds'))]\n",
    "print(filtered_rows[['user_id', 'date', 'time_diff']])\n"
   ]
  },
  {
   "cell_type": "markdown",
   "id": "4e2c5d1f",
   "metadata": {},
   "source": [
    "Less than 5 seconds time differnce reviews"
   ]
  },
  {
   "cell_type": "code",
   "execution_count": 38,
   "id": "ebb0e103",
   "metadata": {},
   "outputs": [
    {
     "name": "stdout",
     "output_type": "stream",
     "text": [
      "                      user_id       date  num_reviews\n",
      "36     -0vutwuE36iYMqM2wHaStQ 2009-03-12            2\n",
      "41     -13RX4Gy_F-zoLIenWAo-w 2007-04-20            2\n",
      "45     -2TJaAdxSGnTyy9qGr1z1Q 2011-04-08            2\n",
      "49     -2Vg22LqKpg0zjf5A-SWLA 2015-01-23            2\n",
      "62     -2nNiAnDaSbQayynsqgL6Q 2011-09-20            2\n",
      "...                       ...        ...          ...\n",
      "95614  zwPKdviIT_C4CD2ZL_nJyQ 2012-06-19            2\n",
      "95621  zx4c7K-1eBSvEmUg7zqiZQ 2011-03-09            2\n",
      "95631  zxeXnjqmlrAspfk17LSZCg 2011-03-20            3\n",
      "95639  zxuxd6Hz2tKcpgZ71dYEcw 2014-04-03            2\n",
      "95654  zyNrXvJyYdC34tS6BcCykA 2009-11-17            3\n",
      "\n",
      "[6503 rows x 3 columns]\n",
      "                      user_id       date       time_diff\n",
      "80156  FjOKTsuKtdoLhz3CWsuEPQ 2012-02-01 0 days 00:00:00\n",
      "80859  O8v43MR97f2vz_v2br8mNg 2011-01-30 0 days 00:00:01\n",
      "85684  WJpWp-3zZ3iuwEYCGGf0yA 2012-03-15 0 days 00:00:00\n",
      "56117  YEiJOtOBBRKEpRuvZNA9Cg 2011-07-11 0 days 00:00:01\n",
      "77914  cKRiEclULFf4TczO1-tf3A 2012-06-18 0 days 00:00:01\n",
      "79976  d8FwfuFM9SJA3kU_cIQ3aw 2015-05-17 0 days 00:00:04\n",
      "27330  esMNMMH7BKkiJd91fvO-FA 2011-08-16 0 days 00:00:03\n",
      "65556  u8tyDjEaANLSOZ4MTKfhhg 2012-07-06 0 days 00:00:01\n"
     ]
    }
   ],
   "source": [
    "import pandas as pd\n",
    "df['date'] = pd.to_datetime(df['date'])\n",
    "df['time'] = pd.to_datetime(df['time'])\n",
    "df.sort_values(by=['user_id', 'date', 'time'], inplace=True)\n",
    "df['time_diff'] = df.groupby(['user_id', 'date'])['time'].diff()\n",
    "user_date_review_counts = df.groupby(['user_id', 'date'])['review_id'].count().reset_index()\n",
    "user_date_review_counts.columns = ['user_id', 'date', 'num_reviews']\n",
    "users_with_more_than_1_review = user_date_review_counts[user_date_review_counts['num_reviews'] > 1]\n",
    "print(users_with_more_than_1_review[['user_id', 'date', 'num_reviews']])\n",
    "filtered_rows = df.loc[(df['user_id'].isin(users_with_more_than_1_review['user_id'])) & (df['time_diff'] < pd.Timedelta('5 seconds'))]\n",
    "print(filtered_rows[['user_id', 'date', 'time_diff']])\n"
   ]
  },
  {
   "cell_type": "code",
   "execution_count": 14,
   "id": "d06e80af",
   "metadata": {},
   "outputs": [
    {
     "name": "stdout",
     "output_type": "stream",
     "text": [
      "Index(['_id', 'user_id', 'name', 'review_count', 'useful', 'review_id',\n",
      "       'stars', 'useful_review', 'text', 'date', 'time'],\n",
      "      dtype='object')\n"
     ]
    }
   ],
   "source": [
    "attributes = df.columns\n",
    "print(attributes)"
   ]
  },
  {
   "cell_type": "code",
   "execution_count": null,
   "id": "0b35c339",
   "metadata": {},
   "outputs": [],
   "source": []
  }
 ],
 "metadata": {
  "kernelspec": {
   "display_name": "Python 3 (ipykernel)",
   "language": "python",
   "name": "python3"
  },
  "language_info": {
   "codemirror_mode": {
    "name": "ipython",
    "version": 3
   },
   "file_extension": ".py",
   "mimetype": "text/x-python",
   "name": "python",
   "nbconvert_exporter": "python",
   "pygments_lexer": "ipython3",
   "version": "3.12.1"
  }
 },
 "nbformat": 4,
 "nbformat_minor": 5
}
