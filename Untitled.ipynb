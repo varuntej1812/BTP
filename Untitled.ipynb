{
 "cells": [
  {
   "cell_type": "code",
   "execution_count": 2,
   "id": "2ea4e9e4-c5fa-4c37-824a-d2c241dd5264",
   "metadata": {},
   "outputs": [],
   "source": [
    "import pandas as pd\n",
    "\n",
    "# Read the CSV file into a DataFrame\n",
    "df = pd.read_csv('CleanedDataset.csv')\n",
    "\n",
    "# Split the 'date' column into 'date' and 'time'\n",
    "df[['date', 'time']] = df['date'].str.split(' ', expand=True)\n",
    "\n",
    "# Save the changes back to the CSV file without including the index\n",
    "df.to_csv('CleanedDataset.csv', index=False)\n"
   ]
  },
  {
   "cell_type": "code",
   "execution_count": null,
   "id": "807a7ee5-5966-40d0-8f47-2bdeb0a78132",
   "metadata": {},
   "outputs": [],
   "source": []
  }
 ],
 "metadata": {
  "kernelspec": {
   "display_name": "Python 3 (ipykernel)",
   "language": "python",
   "name": "python3"
  },
  "language_info": {
   "codemirror_mode": {
    "name": "ipython",
    "version": 3
   },
   "file_extension": ".py",
   "mimetype": "text/x-python",
   "name": "python",
   "nbconvert_exporter": "python",
   "pygments_lexer": "ipython3",
   "version": "3.12.1"
  }
 },
 "nbformat": 4,
 "nbformat_minor": 5
}
