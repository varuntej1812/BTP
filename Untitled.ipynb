{
 "cells": [
  {
   "cell_type": "code",
   "execution_count": 1,
   "id": "2ea4e9e4-c5fa-4c37-824a-d2c241dd5264",
   "metadata": {},
   "outputs": [],
   "source": [
    "import pandas as pd\n",
    "\n",
    "# Read the CSV file into a DataFrame\n",
    "df = pd.read_csv('btp.csv')\n",
    "\n",
    "# Split the 'date' column into 'date' and 'time'\n",
    "df[['date', 'time']] = df['date'].str.split(' ', expand=True)\n",
    "\n",
    "# Save the changes back to the CSV file without including the index\n",
    "df.to_csv('btp.csv', index=False)\n"
   ]
  },
  {
   "cell_type": "code",
   "execution_count": 2,
   "id": "807a7ee5-5966-40d0-8f47-2bdeb0a78132",
   "metadata": {},
   "outputs": [
    {
     "name": "stdout",
     "output_type": "stream",
     "text": [
      "                      user_id       date  num_reviews\n",
      "0      ---2PmXbF47D870stH1jqA 2014-07-10            1\n",
      "1      ---2PmXbF47D870stH1jqA 2014-10-28            1\n",
      "2      ---2PmXbF47D870stH1jqA 2015-06-27            1\n",
      "3      --3WaS23LcIXtxyFULJHTA 2015-10-02            1\n",
      "4      --6PFZka7og6Khaw6oyjvQ 2015-05-30            1\n",
      "...                       ...        ...          ...\n",
      "95681  zziJLt25YU6dp01sewR-IQ 2010-11-25            1\n",
      "95682  zziJLt25YU6dp01sewR-IQ 2012-02-10            1\n",
      "95683  zziJLt25YU6dp01sewR-IQ 2012-10-29            1\n",
      "95684  zziJLt25YU6dp01sewR-IQ 2012-11-01            1\n",
      "95685  zziJLt25YU6dp01sewR-IQ 2012-11-04            1\n",
      "\n",
      "[95686 rows x 3 columns]\n"
     ]
    }
   ],
   "source": [
    "df['date'] = pd.to_datetime(df['date'])\n",
    "\n",
    "# Group by 'user_id' and 'date' and count the number of reviews for each user on each date\n",
    "user_date_review_counts = df.groupby(['user_id', 'date'])['review_id'].count().reset_index()\n",
    "user_date_review_counts.columns = ['user_id', 'date', 'num_reviews']\n",
    "\n",
    "# Display the result\n",
    "print(user_date_review_counts)"
   ]
  },
  {
   "cell_type": "code",
   "execution_count": 5,
   "id": "491fe2bb",
   "metadata": {},
   "outputs": [
    {
     "name": "stdout",
     "output_type": "stream",
     "text": [
      "                      user_id       date  num_reviews\n",
      "8080   4F59l8scDgg6BQx0HGRtcQ 2015-01-03            6\n",
      "14484  8O5tGAz_LFuX3JTim7Egyg 2011-03-03            8\n",
      "14528  8RcEwGrFIgkt9WQ35E6SnQ 2016-08-19            9\n",
      "17483  AW2cimP0kAlKiNs4iEwa7A 2013-02-22            6\n",
      "19717  BrH27yHhgDEylDZfFdJvSQ 2009-03-28            6\n",
      "20902  Cf8Jw9yX8RrG-l4PQoMkuw 2012-02-26            8\n",
      "28347  Hn8O2RQijYIVLFNF5VPWTA 2011-01-04           10\n",
      "34220  LlLNWV5FmKvjOj0p5qGYeg 2010-05-23            6\n",
      "36539  NUtIAX-ygn474tDg5nmesg 2015-02-16            7\n",
      "39465  PUj5BTAscm67FZQkqe2qwQ 2015-09-13            6\n",
      "53928  YzckMAdpT00nnHutGtTWEQ 2014-02-05            7\n",
      "55490  _4Wn2zRkrmDfowBrNcji0Q 2013-06-02            6\n",
      "58246  amIUTkKQlA4464-lJlwlaQ 2013-03-20            6\n",
      "58917  bJQgJdeqvE7njsTZomhaoQ 2016-07-12            6\n",
      "76121  n-lBS02-3yvlY5Q91mmwDA 2005-07-10           11\n",
      "77340  nnwBdqGHIAJQ5QX9lHOtrQ 2009-01-27            9\n",
      "84158  sLqm9fRo_u81kJCIRdzrMg 2008-05-24           11\n",
      "87278  uZzs_KFzSDFjpyVLyl7Pqg 2010-06-29            8\n",
      "92058  xjQSpme1Z7Xw8XehRLpYuA 2012-06-26            6\n",
      "94000  yyxEa8y4HGij_m7g1wDKWg 2015-04-10            6\n"
     ]
    }
   ],
   "source": [
    "df['date'] = pd.to_datetime(df['date'])\n",
    "\n",
    "# Group by 'user_id' and 'date' and count the number of reviews for each user on each date\n",
    "user_date_review_counts = df.groupby(['user_id', 'date'])['review_id'].count().reset_index()\n",
    "user_date_review_counts.columns = ['user_id', 'date', 'num_reviews']\n",
    "\n",
    "# Filter rows where num_reviews is greater than 5\n",
    "users_with_more_than_5_reviews = user_date_review_counts[user_date_review_counts['num_reviews'] > 5]\n",
    "\n",
    "# Display the result\n",
    "print(users_with_more_than_5_reviews)"
   ]
  },
  {
   "cell_type": "code",
   "execution_count": 4,
   "id": "29c6a512",
   "metadata": {},
   "outputs": [
    {
     "name": "stdout",
     "output_type": "stream",
     "text": [
      "           date  total_reviews\n",
      "15   2005-07-10             13\n",
      "249  2007-02-01             12\n",
      "255  2007-02-09             12\n",
      "272  2007-03-02             11\n",
      "489  2007-10-29             12\n",
      "...         ...            ...\n",
      "4786 2019-08-08             12\n",
      "4798 2019-08-20             11\n",
      "4805 2019-08-27             11\n",
      "4816 2019-09-07             13\n",
      "4913 2019-12-13             11\n",
      "\n",
      "[3573 rows x 2 columns]\n"
     ]
    }
   ],
   "source": [
    "filtered_reviews = total_reviews_by_date[total_reviews_by_date['total_reviews'] > 10]\n",
    "\n",
    "# Display the result\n",
    "print(filtered_reviews)"
   ]
  }
 ],
 "metadata": {
  "kernelspec": {
   "display_name": "Python 3 (ipykernel)",
   "language": "python",
   "name": "python3"
  },
  "language_info": {
   "codemirror_mode": {
    "name": "ipython",
    "version": 3
   },
   "file_extension": ".py",
   "mimetype": "text/x-python",
   "name": "python",
   "nbconvert_exporter": "python",
   "pygments_lexer": "ipython3",
   "version": "3.12.1"
  }
 },
 "nbformat": 4,
 "nbformat_minor": 5
}
