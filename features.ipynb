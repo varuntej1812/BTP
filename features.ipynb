{
 "cells": [
  {
   "cell_type": "markdown",
   "metadata": {},
   "source": [
    "Average Length"
   ]
  },
  {
   "cell_type": "code",
   "execution_count": 1,
   "metadata": {},
   "outputs": [
    {
     "name": "stdout",
     "output_type": "stream",
     "text": [
      "Average Text Length: 718.2507084481841\n",
      "Threshold Value: 718.2507084481841\n",
      "Number of User IDs with Text Length Above Threshold: 38211\n",
      "Number of User IDs with Text Length Below or Equal to Threshold: 65184\n"
     ]
    }
   ],
   "source": [
    "import pandas as pd\n",
    "\n",
    "data = pd.read_csv('btp.csv')\n",
    "\n",
    "data['text_length'] = data['text'].apply(len)\n",
    "\n",
    "average_text_length = data['text_length'].mean()\n",
    "\n",
    "threshold = average_text_length\n",
    "\n",
    "above_threshold_count = (data['text_length'] > threshold).sum()\n",
    "\n",
    "below_threshold_count = (data['text_length'] <= threshold).sum()\n",
    "\n",
    "print(\"Average Text Length:\", average_text_length)\n",
    "print(\"Threshold Value:\", threshold)\n",
    "print(\"Number of User IDs with Text Length Above Threshold:\", above_threshold_count)\n",
    "print(\"Number of User IDs with Text Length Below or Equal to Threshold:\", below_threshold_count)\n"
   ]
  },
  {
   "cell_type": "code",
   "execution_count": null,
   "metadata": {},
   "outputs": [],
   "source": []
  }
 ],
 "metadata": {
  "kernelspec": {
   "display_name": "Python 3",
   "language": "python",
   "name": "python3"
  },
  "language_info": {
   "codemirror_mode": {
    "name": "ipython",
    "version": 3
   },
   "file_extension": ".py",
   "mimetype": "text/x-python",
   "name": "python",
   "nbconvert_exporter": "python",
   "pygments_lexer": "ipython3",
   "version": "3.12.1"
  }
 },
 "nbformat": 4,
 "nbformat_minor": 2
}
